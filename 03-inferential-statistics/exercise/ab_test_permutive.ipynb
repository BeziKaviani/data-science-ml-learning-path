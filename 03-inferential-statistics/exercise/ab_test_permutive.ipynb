{
 "cells": [
  {
   "cell_type": "code",
   "execution_count": 1,
   "metadata": {},
   "outputs": [],
   "source": [
    "import pandas as pd\n",
    "import numpy as np\n",
    "import scipy\n",
    "import scipy.stats as sp\n",
    "import matplotlib.pyplot as plt\n",
    "import seaborn as sns"
   ]
  },
  {
   "cell_type": "code",
   "execution_count": 9,
   "metadata": {},
   "outputs": [],
   "source": [
    "def ab_test(group_a:list, group_b:list, count:int):\n",
    "    # Create a numpy array for mean differances\n",
    "    mean_diffs = np.empty([count,1])\n",
    "\n",
    "    group_a = np.array(group_a)\n",
    "    group_b = np.array(group_b)\n",
    "\n",
    "    mean_a = group_a.mean()\n",
    "    mean_b = group_b.mean()\n",
    "    mean_ab = mean_a - mean_b\n",
    "\n",
    "    len_a = len(group_a)\n",
    "    len_b = len(group_b)\n",
    "\n",
    "    combined_group = np.append(group_a,group_b)\n",
    "\n",
    "    label_a = np.ones(len_a)\n",
    "    label_b = np.zeros(len_b)\n",
    "\n",
    "    # Set 1 for group a and 0 for group b\n",
    "    combined_label = np.append(label_a, label_b)\n",
    "    combined_data = np.column_stack((combined_label, combined_group))\n",
    "\n",
    "    # Shuffel to make our data white\n",
    "    np.random.shuffle(combined_data)\n",
    "\n",
    "    len_combined_data = len(combined_data)\n",
    "\n",
    "    for i in range(count):\n",
    "        # Generate random labels\n",
    "        experiment_label = np.random.randint(0, 2, len_combined_data)\n",
    "        # Create new data from new labels and values from combined data\n",
    "        experiment_data = np.column_stack((experiment_label, combined_data[:, 1]))\n",
    "        # Calculate mean of data values with label equal to 1\n",
    "        group_a_mean = experiment_data[experiment_data[:,0] == 1][:,1].mean()\n",
    "        # Calculate mean of data values with label equal to 0\n",
    "        group_b_mean = experiment_data[experiment_data[:,0] == 0][:,1].mean()\n",
    "        mean_diffs[i] = group_a_mean - group_b_mean\n",
    "    \n",
    "    # Calculate the length of a list where mean_diffs[i] > mean a and b\n",
    "    len_mean_diff = mean_diffs[mean_diffs > mean_ab]\n",
    "    p_value = (len_mean_diff / count) * 100\n",
    "    return p_value"
   ]
  },
  {
   "cell_type": "code",
   "execution_count": null,
   "metadata": {},
   "outputs": [],
   "source": []
  }
 ],
 "metadata": {
  "kernelspec": {
   "display_name": "base",
   "language": "python",
   "name": "python3"
  },
  "language_info": {
   "codemirror_mode": {
    "name": "ipython",
    "version": 3
   },
   "file_extension": ".py",
   "mimetype": "text/x-python",
   "name": "python",
   "nbconvert_exporter": "python",
   "pygments_lexer": "ipython3",
   "version": "3.12.3"
  }
 },
 "nbformat": 4,
 "nbformat_minor": 2
}
