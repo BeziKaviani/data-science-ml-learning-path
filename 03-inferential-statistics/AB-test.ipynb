{
 "cells": [
  {
   "cell_type": "code",
   "execution_count": 1,
   "metadata": {},
   "outputs": [],
   "source": [
    "import pandas as pd\n",
    "import numpy as np\n",
    "import scipy\n",
    "import scipy.stats as sp\n",
    "import matplotlib.pyplot as plt\n",
    "import seaborn as sns"
   ]
  },
  {
   "cell_type": "code",
   "execution_count": 2,
   "metadata": {},
   "outputs": [],
   "source": [
    "A = np.array([12,20,39,17,23,32,21,23,10,9,17,24])\n",
    "B = np.array([21,17,14,40,31,29,34,18,14,25,9,28])"
   ]
  },
  {
   "cell_type": "code",
   "execution_count": 3,
   "metadata": {},
   "outputs": [
    {
     "data": {
      "text/plain": [
       "array([[ 0.,  0.,  0.,  0.,  0.,  0.,  0.,  0.,  0.,  0.,  0.,  0.,  1.,\n",
       "         1.,  1.,  1.,  1.,  1.,  1.,  1.,  1.,  1.,  1.,  1.],\n",
       "       [12., 20., 39., 17., 23., 32., 21., 23., 10.,  9., 17., 24., 21.,\n",
       "        17., 14., 40., 31., 29., 34., 18., 14., 25.,  9., 28.]])"
      ]
     },
     "execution_count": 3,
     "metadata": {},
     "output_type": "execute_result"
    }
   ],
   "source": [
    "AB = np.array([np.append(np.zeros(len(A)), np.ones(len(B))), np.append(A,B)])\n",
    "AB\n"
   ]
  },
  {
   "cell_type": "code",
   "execution_count": 4,
   "metadata": {},
   "outputs": [
    {
     "data": {
      "text/plain": [
       "array([[ 0., 12.],\n",
       "       [ 0., 20.],\n",
       "       [ 0., 39.],\n",
       "       [ 0., 17.],\n",
       "       [ 0., 23.],\n",
       "       [ 0., 32.],\n",
       "       [ 0., 21.],\n",
       "       [ 0., 23.],\n",
       "       [ 0., 10.],\n",
       "       [ 0.,  9.],\n",
       "       [ 0., 17.],\n",
       "       [ 0., 24.],\n",
       "       [ 1., 21.],\n",
       "       [ 1., 17.],\n",
       "       [ 1., 14.],\n",
       "       [ 1., 40.],\n",
       "       [ 1., 31.],\n",
       "       [ 1., 29.],\n",
       "       [ 1., 34.],\n",
       "       [ 1., 18.],\n",
       "       [ 1., 14.],\n",
       "       [ 1., 25.],\n",
       "       [ 1.,  9.],\n",
       "       [ 1., 28.]])"
      ]
     },
     "execution_count": 4,
     "metadata": {},
     "output_type": "execute_result"
    }
   ],
   "source": [
    "AB_t = AB.T\n",
    "AB_t"
   ]
  },
  {
   "cell_type": "markdown",
   "metadata": {},
   "source": [
    "A shuffled data with labels \n",
    "0 -> A\n",
    "1 -> B"
   ]
  },
  {
   "cell_type": "code",
   "execution_count": 5,
   "metadata": {},
   "outputs": [
    {
     "data": {
      "text/plain": [
       "array([[ 1., 18.],\n",
       "       [ 1., 17.],\n",
       "       [ 1., 25.],\n",
       "       [ 1., 14.],\n",
       "       [ 0., 32.],\n",
       "       [ 0., 17.],\n",
       "       [ 1.,  9.],\n",
       "       [ 0.,  9.],\n",
       "       [ 0., 12.],\n",
       "       [ 1., 29.],\n",
       "       [ 1., 28.],\n",
       "       [ 1., 14.],\n",
       "       [ 0., 23.],\n",
       "       [ 1., 21.],\n",
       "       [ 0., 17.],\n",
       "       [ 0., 20.],\n",
       "       [ 0., 10.],\n",
       "       [ 1., 40.],\n",
       "       [ 0., 21.],\n",
       "       [ 0., 39.],\n",
       "       [ 1., 31.],\n",
       "       [ 1., 34.],\n",
       "       [ 0., 23.],\n",
       "       [ 0., 24.]])"
      ]
     },
     "execution_count": 5,
     "metadata": {},
     "output_type": "execute_result"
    }
   ],
   "source": [
    "np.random.shuffle(AB_t)\n",
    "AB_t"
   ]
  },
  {
   "cell_type": "markdown",
   "metadata": {},
   "source": [
    "Create random lebels for the datas -> Chance"
   ]
  },
  {
   "cell_type": "code",
   "execution_count": 6,
   "metadata": {},
   "outputs": [
    {
     "data": {
      "text/plain": [
       "array([[ 1., 18.],\n",
       "       [ 1., 17.],\n",
       "       [ 1., 25.],\n",
       "       [ 1., 14.],\n",
       "       [ 1., 32.],\n",
       "       [ 0., 17.],\n",
       "       [ 1.,  9.],\n",
       "       [ 1.,  9.],\n",
       "       [ 1., 12.],\n",
       "       [ 1., 29.],\n",
       "       [ 0., 28.],\n",
       "       [ 1., 14.],\n",
       "       [ 1., 23.],\n",
       "       [ 0., 21.],\n",
       "       [ 0., 17.],\n",
       "       [ 0., 20.],\n",
       "       [ 0., 10.],\n",
       "       [ 1., 40.],\n",
       "       [ 1., 21.],\n",
       "       [ 0., 39.],\n",
       "       [ 1., 31.],\n",
       "       [ 0., 34.],\n",
       "       [ 1., 23.],\n",
       "       [ 1., 24.]])"
      ]
     },
     "execution_count": 6,
     "metadata": {},
     "output_type": "execute_result"
    }
   ],
   "source": [
    "experimental_data = np.array([np.random.randint(0,2,len(AB_t)), AB_t[:, 1]]).T\n",
    "experimental_data "
   ]
  },
  {
   "cell_type": "code",
   "execution_count": null,
   "metadata": {},
   "outputs": [],
   "source": [
    "def ab_test(group_a:list, group_b:list, count:int):\n",
    "    mean_diffs = np.empty([count,1])\n",
    "    len_a = len(group_a)\n",
    "    len_b = len(group_b)\n",
    "    combined_group = np.append(group_a,group_b)\n",
    "    label_a = np.ones(len_a)\n",
    "    label_b = np.zeros(len_b)\n",
    "    combined_label = np.append(label_a, label_b)\n",
    "    combined_data = np.column_stack(combined_label, combined_group)\n",
    "    np.random.shuffle(combined_data)\n",
    "    len_combined_data = len(combined_data)\n",
    "    for i in range(count):\n",
    "        experiment_label = np.random.randint(0, 2, len_combined_data)\n",
    "        experiment_data = np.array([np.append(experiment_label,combined_data_t[:, 1])])\n",
    "        mean_diffs[i] = experiment_data[experiment_data[:0] == 1][:, 1].mean() - experiment_data[experiment_data[:0] == 0][:, 1].mean()\n",
    "    return mean_diffs"
   ]
  },
  {
   "cell_type": "code",
   "execution_count": 32,
   "metadata": {},
   "outputs": [
    {
     "data": {
      "text/plain": [
       "array([[12, 21],\n",
       "       [20, 17],\n",
       "       [39, 14],\n",
       "       [17, 40],\n",
       "       [23, 31],\n",
       "       [32, 29],\n",
       "       [21, 34],\n",
       "       [23, 18],\n",
       "       [10, 14],\n",
       "       [ 9, 25],\n",
       "       [17,  9],\n",
       "       [24, 28]])"
      ]
     },
     "execution_count": 32,
     "metadata": {},
     "output_type": "execute_result"
    }
   ],
   "source": [
    "np.column_stack((A,B))"
   ]
  },
  {
   "cell_type": "code",
   "execution_count": null,
   "metadata": {},
   "outputs": [],
   "source": []
  }
 ],
 "metadata": {
  "kernelspec": {
   "display_name": "base",
   "language": "python",
   "name": "python3"
  },
  "language_info": {
   "codemirror_mode": {
    "name": "ipython",
    "version": 3
   },
   "file_extension": ".py",
   "mimetype": "text/x-python",
   "name": "python",
   "nbconvert_exporter": "python",
   "pygments_lexer": "ipython3",
   "version": "3.12.3"
  }
 },
 "nbformat": 4,
 "nbformat_minor": 2
}
