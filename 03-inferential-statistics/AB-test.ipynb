{
 "cells": [
  {
   "cell_type": "code",
   "execution_count": 14,
   "metadata": {},
   "outputs": [],
   "source": [
    "import pandas as pd\n",
    "import numpy as np\n",
    "import scipy\n",
    "import scipy.stats as sp\n",
    "import matplotlib.pyplot as plt\n",
    "import seaborn as sns"
   ]
  },
  {
   "cell_type": "code",
   "execution_count": 15,
   "metadata": {},
   "outputs": [],
   "source": [
    "A = np.array([12,20,39,17,23,32,21,23,10,9,17,24])\n",
    "B = np.array([21,17,14,40,31,29,34,18,14,25,9,28])"
   ]
  },
  {
   "cell_type": "code",
   "execution_count": 16,
   "metadata": {},
   "outputs": [
    {
     "data": {
      "text/plain": [
       "array([[ 0.,  0.,  0.,  0.,  0.,  0.,  0.,  0.,  0.,  0.,  0.,  0.,  1.,\n",
       "         1.,  1.,  1.,  1.,  1.,  1.,  1.,  1.,  1.,  1.,  1.],\n",
       "       [12., 20., 39., 17., 23., 32., 21., 23., 10.,  9., 17., 24., 21.,\n",
       "        17., 14., 40., 31., 29., 34., 18., 14., 25.,  9., 28.]])"
      ]
     },
     "execution_count": 16,
     "metadata": {},
     "output_type": "execute_result"
    }
   ],
   "source": [
    "AB = np.array([np.append(np.zeros(len(A)), np.ones(len(B))), np.append(A,B)])\n",
    "AB\n"
   ]
  },
  {
   "cell_type": "code",
   "execution_count": 17,
   "metadata": {},
   "outputs": [
    {
     "data": {
      "text/plain": [
       "array([[ 0., 12.],\n",
       "       [ 0., 20.],\n",
       "       [ 0., 39.],\n",
       "       [ 0., 17.],\n",
       "       [ 0., 23.],\n",
       "       [ 0., 32.],\n",
       "       [ 0., 21.],\n",
       "       [ 0., 23.],\n",
       "       [ 0., 10.],\n",
       "       [ 0.,  9.],\n",
       "       [ 0., 17.],\n",
       "       [ 0., 24.],\n",
       "       [ 1., 21.],\n",
       "       [ 1., 17.],\n",
       "       [ 1., 14.],\n",
       "       [ 1., 40.],\n",
       "       [ 1., 31.],\n",
       "       [ 1., 29.],\n",
       "       [ 1., 34.],\n",
       "       [ 1., 18.],\n",
       "       [ 1., 14.],\n",
       "       [ 1., 25.],\n",
       "       [ 1.,  9.],\n",
       "       [ 1., 28.]])"
      ]
     },
     "execution_count": 17,
     "metadata": {},
     "output_type": "execute_result"
    }
   ],
   "source": [
    "AB_t = AB.T\n",
    "AB_t"
   ]
  },
  {
   "cell_type": "markdown",
   "metadata": {},
   "source": [
    "A shuffled data with labels \n",
    "0 -> A\n",
    "1 -> B"
   ]
  },
  {
   "cell_type": "code",
   "execution_count": 18,
   "metadata": {},
   "outputs": [
    {
     "data": {
      "text/plain": [
       "array([[ 0., 32.],\n",
       "       [ 0., 17.],\n",
       "       [ 1., 14.],\n",
       "       [ 1., 34.],\n",
       "       [ 0., 23.],\n",
       "       [ 1., 21.],\n",
       "       [ 0., 21.],\n",
       "       [ 1., 28.],\n",
       "       [ 1., 40.],\n",
       "       [ 0., 24.],\n",
       "       [ 1., 18.],\n",
       "       [ 1., 25.],\n",
       "       [ 1.,  9.],\n",
       "       [ 0., 39.],\n",
       "       [ 1., 14.],\n",
       "       [ 0., 17.],\n",
       "       [ 0., 10.],\n",
       "       [ 0.,  9.],\n",
       "       [ 1., 29.],\n",
       "       [ 1., 17.],\n",
       "       [ 0., 23.],\n",
       "       [ 0., 12.],\n",
       "       [ 0., 20.],\n",
       "       [ 1., 31.]])"
      ]
     },
     "execution_count": 18,
     "metadata": {},
     "output_type": "execute_result"
    }
   ],
   "source": [
    "np.random.shuffle(AB_t)\n",
    "AB_t"
   ]
  },
  {
   "cell_type": "markdown",
   "metadata": {},
   "source": [
    "Create random lebels for the datas -> Chance"
   ]
  },
  {
   "cell_type": "code",
   "execution_count": 19,
   "metadata": {},
   "outputs": [
    {
     "data": {
      "text/plain": [
       "array([[ 0., 32.],\n",
       "       [ 0., 17.],\n",
       "       [ 1., 14.],\n",
       "       [ 1., 34.],\n",
       "       [ 0., 23.],\n",
       "       [ 1., 21.],\n",
       "       [ 1., 21.],\n",
       "       [ 1., 28.],\n",
       "       [ 0., 40.],\n",
       "       [ 1., 24.],\n",
       "       [ 1., 18.],\n",
       "       [ 0., 25.],\n",
       "       [ 0.,  9.],\n",
       "       [ 0., 39.],\n",
       "       [ 0., 14.],\n",
       "       [ 1., 17.],\n",
       "       [ 1., 10.],\n",
       "       [ 1.,  9.],\n",
       "       [ 0., 29.],\n",
       "       [ 1., 17.],\n",
       "       [ 1., 23.],\n",
       "       [ 1., 12.],\n",
       "       [ 1., 20.],\n",
       "       [ 0., 31.]])"
      ]
     },
     "execution_count": 19,
     "metadata": {},
     "output_type": "execute_result"
    }
   ],
   "source": [
    "experimental_data = np.array([np.random.randint(0,2,len(AB_t)), AB_t[:, 1]]).T\n",
    "experimental_data "
   ]
  },
  {
   "cell_type": "code",
   "execution_count": 20,
   "metadata": {},
   "outputs": [],
   "source": [
    "def ab_test(group_a:list, group_b:list, count:int):\n",
    "    mean_diffs = np.empty([count,1])\n",
    "    len_a = len(group_a)\n",
    "    len_b = len(group_b)\n",
    "    combined_group = np.append(group_a,group_b)\n",
    "    label_a = np.ones(len_a)\n",
    "    label_b = np.zeros(len_b)\n",
    "    combined_label = np.append(label_a, label_b)\n",
    "    combined_data = np.column_stack((combined_label, combined_group))\n",
    "    np.random.shuffle(combined_data)\n",
    "    len_combined_data = len(combined_data)\n",
    "    for i in range(count):\n",
    "        experiment_label = np.random.randint(0, 2, len_combined_data)\n",
    "        experiment_data = np.column_stack((experiment_label, combined_data[:, 1]))\n",
    "        group_a_mean = experiment_data[experiment_data[:,0] == 1][:,1].mean()\n",
    "        group_b_mean = experiment_data[experiment_data[:,0] == 0][:,1].mean()\n",
    "        mean_diffs[i] = group_a_mean - group_b_mean\n",
    "    return mean_diffs"
   ]
  },
  {
   "cell_type": "code",
   "execution_count": 21,
   "metadata": {},
   "outputs": [
    {
     "data": {
      "text/plain": [
       "0.12017634289085521"
      ]
     },
     "execution_count": 21,
     "metadata": {},
     "output_type": "execute_result"
    }
   ],
   "source": [
    "dm_test = ab_test(B,A,1000)\n",
    "dm_test.mean()"
   ]
  },
  {
   "cell_type": "code",
   "execution_count": 22,
   "metadata": {},
   "outputs": [
    {
     "data": {
      "text/plain": [
       "2.75"
      ]
     },
     "execution_count": 22,
     "metadata": {},
     "output_type": "execute_result"
    }
   ],
   "source": [
    "dm_AB = B.mean() - A.mean()\n",
    "dm_AB"
   ]
  },
  {
   "cell_type": "markdown",
   "metadata": {},
   "source": [
    "Selecting the ones with higher mean than group means"
   ]
  },
  {
   "cell_type": "code",
   "execution_count": 23,
   "metadata": {},
   "outputs": [
    {
     "data": {
      "text/plain": [
       "247"
      ]
     },
     "execution_count": 23,
     "metadata": {},
     "output_type": "execute_result"
    }
   ],
   "source": [
    "num_chanced = len(dm_test[dm_test > dm_AB])\n",
    "num_chanced"
   ]
  },
  {
   "cell_type": "markdown",
   "metadata": {},
   "source": [
    "This means by this chance the differance is by chance"
   ]
  },
  {
   "cell_type": "code",
   "execution_count": 24,
   "metadata": {},
   "outputs": [
    {
     "data": {
      "text/plain": [
       "24.7"
      ]
     },
     "execution_count": 24,
     "metadata": {},
     "output_type": "execute_result"
    }
   ],
   "source": [
    "(num_chanced / 1000) * 100"
   ]
  },
  {
   "cell_type": "code",
   "execution_count": null,
   "metadata": {},
   "outputs": [],
   "source": []
  }
 ],
 "metadata": {
  "kernelspec": {
   "display_name": "base",
   "language": "python",
   "name": "python3"
  },
  "language_info": {
   "codemirror_mode": {
    "name": "ipython",
    "version": 3
   },
   "file_extension": ".py",
   "mimetype": "text/x-python",
   "name": "python",
   "nbconvert_exporter": "python",
   "pygments_lexer": "ipython3",
   "version": "3.12.3"
  }
 },
 "nbformat": 4,
 "nbformat_minor": 2
}
