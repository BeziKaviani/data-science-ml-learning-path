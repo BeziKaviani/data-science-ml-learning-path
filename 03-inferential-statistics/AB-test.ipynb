{
 "cells": [
  {
   "cell_type": "code",
   "execution_count": 2,
   "metadata": {},
   "outputs": [],
   "source": [
    "import pandas as pd\n",
    "import numpy as np\n",
    "import scipy\n",
    "import scipy.stats as sp\n",
    "import matplotlib.pyplot as plt\n",
    "import seaborn as sns"
   ]
  },
  {
   "cell_type": "code",
   "execution_count": 3,
   "metadata": {},
   "outputs": [],
   "source": [
    "A = np.array([12,20,39,17,23,32,21,23,10,9,17,24])\n",
    "B = np.array([21,17,14,40,31,29,34,18,14,25,9,28])"
   ]
  },
  {
   "cell_type": "code",
   "execution_count": 11,
   "metadata": {},
   "outputs": [
    {
     "data": {
      "text/plain": [
       "array([[ 0.,  0.,  0.,  0.,  0.,  0.,  0.,  0.,  0.,  0.,  0.,  0.,  1.,\n",
       "         1.,  1.,  1.,  1.,  1.,  1.,  1.,  1.,  1.,  1.,  1.],\n",
       "       [12., 20., 39., 17., 23., 32., 21., 23., 10.,  9., 17., 24., 21.,\n",
       "        17., 14., 40., 31., 29., 34., 18., 14., 25.,  9., 28.]])"
      ]
     },
     "execution_count": 11,
     "metadata": {},
     "output_type": "execute_result"
    }
   ],
   "source": [
    "AB = np.array([np.append(np.zeros(len(A)), np.ones(len(B))), np.append(A,B)])\n",
    "AB\n"
   ]
  },
  {
   "cell_type": "code",
   "execution_count": 12,
   "metadata": {},
   "outputs": [
    {
     "data": {
      "text/plain": [
       "array([[ 0., 12.],\n",
       "       [ 0., 20.],\n",
       "       [ 0., 39.],\n",
       "       [ 0., 17.],\n",
       "       [ 0., 23.],\n",
       "       [ 0., 32.],\n",
       "       [ 0., 21.],\n",
       "       [ 0., 23.],\n",
       "       [ 0., 10.],\n",
       "       [ 0.,  9.],\n",
       "       [ 0., 17.],\n",
       "       [ 0., 24.],\n",
       "       [ 1., 21.],\n",
       "       [ 1., 17.],\n",
       "       [ 1., 14.],\n",
       "       [ 1., 40.],\n",
       "       [ 1., 31.],\n",
       "       [ 1., 29.],\n",
       "       [ 1., 34.],\n",
       "       [ 1., 18.],\n",
       "       [ 1., 14.],\n",
       "       [ 1., 25.],\n",
       "       [ 1.,  9.],\n",
       "       [ 1., 28.]])"
      ]
     },
     "execution_count": 12,
     "metadata": {},
     "output_type": "execute_result"
    }
   ],
   "source": [
    "AB_t = AB.T\n",
    "AB_t"
   ]
  },
  {
   "cell_type": "markdown",
   "metadata": {},
   "source": [
    "A shuffled data with labels \n",
    "0 -> A\n",
    "1 -> B"
   ]
  },
  {
   "cell_type": "code",
   "execution_count": 13,
   "metadata": {},
   "outputs": [
    {
     "data": {
      "text/plain": [
       "array([[ 0., 17.],\n",
       "       [ 1., 14.],\n",
       "       [ 0.,  9.],\n",
       "       [ 0., 24.],\n",
       "       [ 1., 21.],\n",
       "       [ 0., 20.],\n",
       "       [ 1., 28.],\n",
       "       [ 1., 14.],\n",
       "       [ 0., 10.],\n",
       "       [ 0., 23.],\n",
       "       [ 1., 34.],\n",
       "       [ 0., 32.],\n",
       "       [ 1.,  9.],\n",
       "       [ 0., 39.],\n",
       "       [ 1., 29.],\n",
       "       [ 1., 31.],\n",
       "       [ 1., 25.],\n",
       "       [ 0., 23.],\n",
       "       [ 1., 40.],\n",
       "       [ 0., 12.],\n",
       "       [ 1., 17.],\n",
       "       [ 0., 17.],\n",
       "       [ 0., 21.],\n",
       "       [ 1., 18.]])"
      ]
     },
     "execution_count": 13,
     "metadata": {},
     "output_type": "execute_result"
    }
   ],
   "source": [
    "np.random.shuffle(AB_t)\n",
    "AB_t"
   ]
  },
  {
   "cell_type": "markdown",
   "metadata": {},
   "source": [
    "Create random lebels for the datas -> Chance"
   ]
  },
  {
   "cell_type": "code",
   "execution_count": 32,
   "metadata": {},
   "outputs": [
    {
     "data": {
      "text/plain": [
       "array([[ 1., 17.],\n",
       "       [ 1., 14.],\n",
       "       [ 0.,  9.],\n",
       "       [ 1., 24.],\n",
       "       [ 1., 21.],\n",
       "       [ 1., 20.],\n",
       "       [ 0., 28.],\n",
       "       [ 0., 14.],\n",
       "       [ 0., 10.],\n",
       "       [ 1., 23.],\n",
       "       [ 1., 34.],\n",
       "       [ 0., 32.],\n",
       "       [ 0.,  9.],\n",
       "       [ 0., 39.],\n",
       "       [ 1., 29.],\n",
       "       [ 0., 31.],\n",
       "       [ 1., 25.],\n",
       "       [ 0., 23.],\n",
       "       [ 1., 40.],\n",
       "       [ 1., 12.],\n",
       "       [ 1., 17.],\n",
       "       [ 1., 17.],\n",
       "       [ 0., 21.],\n",
       "       [ 0., 18.]])"
      ]
     },
     "execution_count": 32,
     "metadata": {},
     "output_type": "execute_result"
    }
   ],
   "source": [
    "experimental_data = np.array([np.random.randint(0,2,len(AB_t)), AB_t[:, 1]]).T\n",
    "experimental_data "
   ]
  },
  {
   "cell_type": "code",
   "execution_count": 34,
   "metadata": {},
   "outputs": [],
   "source": [
    "def AB_test(a:list,b:list,n:int):\n",
    "    exp_diff_mean = np.empty([n, 1])\n",
    "    ab = np.array([np.append(np.ones(len(a)), np.zeros(len(b))), np.append(a,b)]).T\n",
    "    np.random.shuffle(ab)\n",
    "    for i in range(n):\n",
    "        exp_data = np.array(np.random.randint(0,2,len(ab)), ab[:,1]).T\n",
    "        exp_diff_mean[i] = exp_data[exp_data[:, 0] == 1][:1].mean() - exp_data[exp_data[:, 0] == 0][:,1].mean()\n",
    "    return exp_diff_mean"
   ]
  },
  {
   "cell_type": "code",
   "execution_count": null,
   "metadata": {},
   "outputs": [],
   "source": []
  }
 ],
 "metadata": {
  "kernelspec": {
   "display_name": "base",
   "language": "python",
   "name": "python3"
  },
  "language_info": {
   "codemirror_mode": {
    "name": "ipython",
    "version": 3
   },
   "file_extension": ".py",
   "mimetype": "text/x-python",
   "name": "python",
   "nbconvert_exporter": "python",
   "pygments_lexer": "ipython3",
   "version": "3.12.3"
  }
 },
 "nbformat": 4,
 "nbformat_minor": 2
}
