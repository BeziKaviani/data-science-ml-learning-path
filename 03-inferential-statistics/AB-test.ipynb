{
 "cells": [
  {
   "cell_type": "code",
   "execution_count": 1,
   "metadata": {},
   "outputs": [],
   "source": [
    "import pandas as pd\n",
    "import numpy as np\n",
    "import scipy\n",
    "import scipy.stats as sp\n",
    "import matplotlib.pyplot as plt\n",
    "import seaborn as sns"
   ]
  },
  {
   "cell_type": "code",
   "execution_count": 2,
   "metadata": {},
   "outputs": [],
   "source": [
    "A = np.array([12,20,39,17,23,32,21,23,10,9,17,24])\n",
    "B = np.array([21,17,14,40,31,29,34,18,14,25,9,28])"
   ]
  },
  {
   "cell_type": "code",
   "execution_count": 3,
   "metadata": {},
   "outputs": [
    {
     "data": {
      "text/plain": [
       "array([[ 0.,  0.,  0.,  0.,  0.,  0.,  0.,  0.,  0.,  0.,  0.,  0.,  1.,\n",
       "         1.,  1.,  1.,  1.,  1.,  1.,  1.,  1.,  1.,  1.,  1.],\n",
       "       [12., 20., 39., 17., 23., 32., 21., 23., 10.,  9., 17., 24., 21.,\n",
       "        17., 14., 40., 31., 29., 34., 18., 14., 25.,  9., 28.]])"
      ]
     },
     "execution_count": 3,
     "metadata": {},
     "output_type": "execute_result"
    }
   ],
   "source": [
    "AB = np.array([np.append(np.zeros(len(A)), np.ones(len(B))), np.append(A,B)])\n",
    "AB\n"
   ]
  },
  {
   "cell_type": "code",
   "execution_count": 4,
   "metadata": {},
   "outputs": [
    {
     "data": {
      "text/plain": [
       "array([[ 0., 12.],\n",
       "       [ 0., 20.],\n",
       "       [ 0., 39.],\n",
       "       [ 0., 17.],\n",
       "       [ 0., 23.],\n",
       "       [ 0., 32.],\n",
       "       [ 0., 21.],\n",
       "       [ 0., 23.],\n",
       "       [ 0., 10.],\n",
       "       [ 0.,  9.],\n",
       "       [ 0., 17.],\n",
       "       [ 0., 24.],\n",
       "       [ 1., 21.],\n",
       "       [ 1., 17.],\n",
       "       [ 1., 14.],\n",
       "       [ 1., 40.],\n",
       "       [ 1., 31.],\n",
       "       [ 1., 29.],\n",
       "       [ 1., 34.],\n",
       "       [ 1., 18.],\n",
       "       [ 1., 14.],\n",
       "       [ 1., 25.],\n",
       "       [ 1.,  9.],\n",
       "       [ 1., 28.]])"
      ]
     },
     "execution_count": 4,
     "metadata": {},
     "output_type": "execute_result"
    }
   ],
   "source": [
    "AB_t = AB.T\n",
    "AB_t"
   ]
  },
  {
   "cell_type": "markdown",
   "metadata": {},
   "source": [
    "A shuffled data with labels \n",
    "0 -> A\n",
    "1 -> B"
   ]
  },
  {
   "cell_type": "code",
   "execution_count": 5,
   "metadata": {},
   "outputs": [
    {
     "data": {
      "text/plain": [
       "array([[ 1., 14.],\n",
       "       [ 1., 18.],\n",
       "       [ 1., 14.],\n",
       "       [ 1., 40.],\n",
       "       [ 0., 10.],\n",
       "       [ 0., 23.],\n",
       "       [ 1.,  9.],\n",
       "       [ 0., 39.],\n",
       "       [ 1., 28.],\n",
       "       [ 0., 21.],\n",
       "       [ 1., 34.],\n",
       "       [ 0., 17.],\n",
       "       [ 0., 20.],\n",
       "       [ 1., 25.],\n",
       "       [ 1., 29.],\n",
       "       [ 0.,  9.],\n",
       "       [ 0., 24.],\n",
       "       [ 0., 32.],\n",
       "       [ 1., 21.],\n",
       "       [ 1., 31.],\n",
       "       [ 0., 23.],\n",
       "       [ 0., 17.],\n",
       "       [ 1., 17.],\n",
       "       [ 0., 12.]])"
      ]
     },
     "execution_count": 5,
     "metadata": {},
     "output_type": "execute_result"
    }
   ],
   "source": [
    "np.random.shuffle(AB_t)\n",
    "AB_t"
   ]
  },
  {
   "cell_type": "markdown",
   "metadata": {},
   "source": [
    "Create random lebels for the datas -> Chance"
   ]
  },
  {
   "cell_type": "code",
   "execution_count": 6,
   "metadata": {},
   "outputs": [
    {
     "data": {
      "text/plain": [
       "array([[ 1., 14.],\n",
       "       [ 1., 18.],\n",
       "       [ 1., 14.],\n",
       "       [ 0., 40.],\n",
       "       [ 0., 10.],\n",
       "       [ 1., 23.],\n",
       "       [ 0.,  9.],\n",
       "       [ 0., 39.],\n",
       "       [ 1., 28.],\n",
       "       [ 0., 21.],\n",
       "       [ 1., 34.],\n",
       "       [ 0., 17.],\n",
       "       [ 1., 20.],\n",
       "       [ 0., 25.],\n",
       "       [ 0., 29.],\n",
       "       [ 1.,  9.],\n",
       "       [ 0., 24.],\n",
       "       [ 1., 32.],\n",
       "       [ 0., 21.],\n",
       "       [ 1., 31.],\n",
       "       [ 0., 23.],\n",
       "       [ 1., 17.],\n",
       "       [ 0., 17.],\n",
       "       [ 0., 12.]])"
      ]
     },
     "execution_count": 6,
     "metadata": {},
     "output_type": "execute_result"
    }
   ],
   "source": [
    "experimental_data = np.array([np.random.randint(0,2,len(AB_t)), AB_t[:, 1]]).T\n",
    "experimental_data "
   ]
  },
  {
   "cell_type": "code",
   "execution_count": 80,
   "metadata": {},
   "outputs": [],
   "source": [
    "\n",
    "def ab_test(group_a: list, group_b: list, n_bootstraps: int, confidence_level: float = 0.95) -> tuple:\n",
    "    \"\"\"\n",
    "    Performs A/B testing using bootstrap to compare the means of two groups.\n",
    "    \n",
    "    Args:\n",
    "        group_a (list): Data for group A (e.g., conversion rates, sales).\n",
    "        group_b (list): Data for group B.\n",
    "        n_bootstraps (int): Number of bootstrap iterations.\n",
    "        confidence_level (float): Confidence level for the confidence interval (default: 0.95).\n",
    "    \n",
    "    Returns:\n",
    "        tuple: (mean_diff, p_value, conf_interval)\n",
    "            - mean_diff: Observed difference in means (group_a - group_b).\n",
    "            - p_value: P-value for the null hypothesis (no difference between groups).\n",
    "            - conf_interval: Confidence interval for the difference in means.\n",
    "    \"\"\"\n",
    "    # Convert inputs to numpy arrays for efficiency\n",
    "    group_a = np.array(group_a)\n",
    "    group_b = np.array(group_b)\n",
    "    \n",
    "    # Check for valid inputs\n",
    "    if len(group_a) == 0 or len(group_b) == 0:\n",
    "        raise ValueError(\"Input groups cannot be empty.\")\n",
    "    \n",
    "    # Observed difference in means\n",
    "    observed_diff = np.mean(group_a) - np.mean(group_b)\n",
    "    \n",
    "    # Combine data for bootstrap\n",
    "    combined_data = np.concatenate([group_a, group_b])\n",
    "    len_a = len(group_a)\n",
    "    \n",
    "    # Array to store bootstrap differences\n",
    "    bootstrap_diffs = np.empty(n_bootstraps)\n",
    "    \n",
    "    # Bootstrap loop\n",
    "    for i in range(n_bootstraps):\n",
    "        # Randomly assign data to two groups\n",
    "        indices = np.random.choice(len(combined_data), size=len(combined_data), replace=True)\n",
    "        bootstrap_sample = combined_data[indices]\n",
    "        bootstrap_a = bootstrap_sample[:len_a]\n",
    "        bootstrap_b = bootstrap_sample[len_a:]\n",
    "        \n",
    "        # Calculate difference in means\n",
    "        bootstrap_diffs[i] = np.mean(bootstrap_a) - np.mean(bootstrap_b)\n",
    "    \n",
    "    # Calculate p-value (two-tailed test)\n",
    "    p_value = np.mean(np.abs(bootstrap_diffs) >= np.abs(observed_diff))\n",
    "    \n",
    "    # Calculate confidence interval\n",
    "    conf_interval = np.percentile(bootstrap_diffs, [(1 - confidence_level) / 2 * 100, (1 + confidence_level) / 2 * 100])\n",
    "    \n",
    "    return observed_diff, p_value, conf_interval\n"
   ]
  },
  {
   "cell_type": "code",
   "execution_count": 83,
   "metadata": {},
   "outputs": [
    {
     "data": {
      "text/plain": [
       "(2.75, 0.447, array([-6.66666667,  7.25208333]))"
      ]
     },
     "execution_count": 83,
     "metadata": {},
     "output_type": "execute_result"
    }
   ],
   "source": [
    "ab_test(B,A,1000)"
   ]
  },
  {
   "cell_type": "code",
   "execution_count": null,
   "metadata": {},
   "outputs": [],
   "source": []
  }
 ],
 "metadata": {
  "kernelspec": {
   "display_name": "base",
   "language": "python",
   "name": "python3"
  },
  "language_info": {
   "codemirror_mode": {
    "name": "ipython",
    "version": 3
   },
   "file_extension": ".py",
   "mimetype": "text/x-python",
   "name": "python",
   "nbconvert_exporter": "python",
   "pygments_lexer": "ipython3",
   "version": "3.12.3"
  }
 },
 "nbformat": 4,
 "nbformat_minor": 2
}
