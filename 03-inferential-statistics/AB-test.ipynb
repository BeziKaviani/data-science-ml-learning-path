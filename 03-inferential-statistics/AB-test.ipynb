{
 "cells": [
  {
   "cell_type": "code",
   "execution_count": 2,
   "metadata": {},
   "outputs": [],
   "source": [
    "import pandas as pd\n",
    "import numpy as np\n",
    "import scipy\n",
    "import scipy.stats as sp\n",
    "import matplotlib.pyplot as plt\n",
    "import seaborn as sns"
   ]
  },
  {
   "cell_type": "code",
   "execution_count": 3,
   "metadata": {},
   "outputs": [],
   "source": [
    "A = np.array([12,20,39,17,23,32,21,23,10,9,17,24])\n",
    "B = np.array([21,17,14,40,31,29,34,18,14,25,9,28])"
   ]
  },
  {
   "cell_type": "code",
   "execution_count": 11,
   "metadata": {},
   "outputs": [
    {
     "data": {
      "text/plain": [
       "array([[ 0.,  0.,  0.,  0.,  0.,  0.,  0.,  0.,  0.,  0.,  0.,  0.,  1.,\n",
       "         1.,  1.,  1.,  1.,  1.,  1.,  1.,  1.,  1.,  1.,  1.],\n",
       "       [12., 20., 39., 17., 23., 32., 21., 23., 10.,  9., 17., 24., 21.,\n",
       "        17., 14., 40., 31., 29., 34., 18., 14., 25.,  9., 28.]])"
      ]
     },
     "execution_count": 11,
     "metadata": {},
     "output_type": "execute_result"
    }
   ],
   "source": [
    "AB = np.array([np.append(np.zeros(len(A)), np.ones(len(B))), np.append(A,B)])\n",
    "AB\n"
   ]
  },
  {
   "cell_type": "code",
   "execution_count": 12,
   "metadata": {},
   "outputs": [
    {
     "data": {
      "text/plain": [
       "array([[ 0., 12.],\n",
       "       [ 0., 20.],\n",
       "       [ 0., 39.],\n",
       "       [ 0., 17.],\n",
       "       [ 0., 23.],\n",
       "       [ 0., 32.],\n",
       "       [ 0., 21.],\n",
       "       [ 0., 23.],\n",
       "       [ 0., 10.],\n",
       "       [ 0.,  9.],\n",
       "       [ 0., 17.],\n",
       "       [ 0., 24.],\n",
       "       [ 1., 21.],\n",
       "       [ 1., 17.],\n",
       "       [ 1., 14.],\n",
       "       [ 1., 40.],\n",
       "       [ 1., 31.],\n",
       "       [ 1., 29.],\n",
       "       [ 1., 34.],\n",
       "       [ 1., 18.],\n",
       "       [ 1., 14.],\n",
       "       [ 1., 25.],\n",
       "       [ 1.,  9.],\n",
       "       [ 1., 28.]])"
      ]
     },
     "execution_count": 12,
     "metadata": {},
     "output_type": "execute_result"
    }
   ],
   "source": [
    "AB_t = AB.T\n",
    "AB_t"
   ]
  },
  {
   "cell_type": "markdown",
   "metadata": {},
   "source": [
    "A shuffled data with labels \n",
    "0 -> A\n",
    "1 -> B"
   ]
  },
  {
   "cell_type": "code",
   "execution_count": 13,
   "metadata": {},
   "outputs": [
    {
     "data": {
      "text/plain": [
       "array([[ 0., 17.],\n",
       "       [ 1., 14.],\n",
       "       [ 0.,  9.],\n",
       "       [ 0., 24.],\n",
       "       [ 1., 21.],\n",
       "       [ 0., 20.],\n",
       "       [ 1., 28.],\n",
       "       [ 1., 14.],\n",
       "       [ 0., 10.],\n",
       "       [ 0., 23.],\n",
       "       [ 1., 34.],\n",
       "       [ 0., 32.],\n",
       "       [ 1.,  9.],\n",
       "       [ 0., 39.],\n",
       "       [ 1., 29.],\n",
       "       [ 1., 31.],\n",
       "       [ 1., 25.],\n",
       "       [ 0., 23.],\n",
       "       [ 1., 40.],\n",
       "       [ 0., 12.],\n",
       "       [ 1., 17.],\n",
       "       [ 0., 17.],\n",
       "       [ 0., 21.],\n",
       "       [ 1., 18.]])"
      ]
     },
     "execution_count": 13,
     "metadata": {},
     "output_type": "execute_result"
    }
   ],
   "source": [
    "np.random.shuffle(AB_t)\n",
    "AB_t"
   ]
  },
  {
   "cell_type": "markdown",
   "metadata": {},
   "source": [
    "Create random lebels for the datas -> Chance"
   ]
  },
  {
   "cell_type": "code",
   "execution_count": 26,
   "metadata": {},
   "outputs": [
    {
     "data": {
      "text/plain": [
       "array([[ 0.,  0.,  0.,  1.,  0.,  1.,  0.,  0.,  0.,  0.,  1.,  0.,  1.,\n",
       "         1.,  0.,  1.,  1.,  1.,  0.,  0.,  1.,  0.,  1.,  0.],\n",
       "       [17., 14.,  9., 24., 21., 20., 28., 14., 10., 23., 34., 32.,  9.,\n",
       "        39., 29., 31., 25., 23., 40., 12., 17., 17., 21., 18.]])"
      ]
     },
     "execution_count": 26,
     "metadata": {},
     "output_type": "execute_result"
    }
   ],
   "source": [
    "exp_data = np.array([np.random.randint(0,2,len(AB_t)), AB_t[:, 1]])\n",
    "exp_data"
   ]
  },
  {
   "cell_type": "code",
   "execution_count": null,
   "metadata": {},
   "outputs": [],
   "source": []
  }
 ],
 "metadata": {
  "kernelspec": {
   "display_name": "base",
   "language": "python",
   "name": "python3"
  },
  "language_info": {
   "codemirror_mode": {
    "name": "ipython",
    "version": 3
   },
   "file_extension": ".py",
   "mimetype": "text/x-python",
   "name": "python",
   "nbconvert_exporter": "python",
   "pygments_lexer": "ipython3",
   "version": "3.12.3"
  }
 },
 "nbformat": 4,
 "nbformat_minor": 2
}
