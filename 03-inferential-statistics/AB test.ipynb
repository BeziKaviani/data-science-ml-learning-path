{
 "cells": [
  {
   "cell_type": "code",
   "execution_count": 5,
   "metadata": {},
   "outputs": [],
   "source": [
    "import pandas as pd\n",
    "import numpy as np\n",
    "import scipy\n",
    "import scipy.stats as sp\n",
    "import matplotlib.pyplot as plt\n",
    "import seaborn as sns"
   ]
  },
  {
   "cell_type": "code",
   "execution_count": 10,
   "metadata": {},
   "outputs": [],
   "source": [
    "A = np.array([12,20,39,17,23,32,21,23,10,9,17,24])\n",
    "B = np.array([21,17,14,40,31,29,34,18,14,25,9,28])"
   ]
  },
  {
   "cell_type": "code",
   "execution_count": 13,
   "metadata": {},
   "outputs": [
    {
     "data": {
      "text/plain": [
       "array([[ 0.,  0.,  0.,  0.,  0.,  0.,  0.,  0.,  0.,  0.,  0.,  0.,  1.,\n",
       "         1.,  1.,  1.,  1.,  1.,  1.,  1.,  1.,  1.,  1.,  1.],\n",
       "       [12., 20., 39., 17., 23., 32., 21., 23., 10.,  9., 17., 24., 21.,\n",
       "        17., 14., 40., 31., 29., 34., 18., 14., 25.,  9., 28.]])"
      ]
     },
     "execution_count": 13,
     "metadata": {},
     "output_type": "execute_result"
    }
   ],
   "source": [
    "AB = np.array([np.append(np.zeros(len(A)), np.ones(len(B))), np.append(A,B)])\n",
    "AB\n"
   ]
  },
  {
   "cell_type": "code",
   "execution_count": 15,
   "metadata": {},
   "outputs": [
    {
     "data": {
      "text/plain": [
       "array([[ 0., 12.],\n",
       "       [ 0., 20.],\n",
       "       [ 0., 39.],\n",
       "       [ 0., 17.],\n",
       "       [ 0., 23.],\n",
       "       [ 0., 32.],\n",
       "       [ 0., 21.],\n",
       "       [ 0., 23.],\n",
       "       [ 0., 10.],\n",
       "       [ 0.,  9.],\n",
       "       [ 0., 17.],\n",
       "       [ 0., 24.],\n",
       "       [ 1., 21.],\n",
       "       [ 1., 17.],\n",
       "       [ 1., 14.],\n",
       "       [ 1., 40.],\n",
       "       [ 1., 31.],\n",
       "       [ 1., 29.],\n",
       "       [ 1., 34.],\n",
       "       [ 1., 18.],\n",
       "       [ 1., 14.],\n",
       "       [ 1., 25.],\n",
       "       [ 1.,  9.],\n",
       "       [ 1., 28.]])"
      ]
     },
     "execution_count": 15,
     "metadata": {},
     "output_type": "execute_result"
    }
   ],
   "source": [
    "AB_t = AB.T\n",
    "AB_t"
   ]
  },
  {
   "cell_type": "code",
   "execution_count": null,
   "metadata": {},
   "outputs": [],
   "source": []
  }
 ],
 "metadata": {
  "kernelspec": {
   "display_name": "base",
   "language": "python",
   "name": "python3"
  },
  "language_info": {
   "codemirror_mode": {
    "name": "ipython",
    "version": 3
   },
   "file_extension": ".py",
   "mimetype": "text/x-python",
   "name": "python",
   "nbconvert_exporter": "python",
   "pygments_lexer": "ipython3",
   "version": "3.12.3"
  }
 },
 "nbformat": 4,
 "nbformat_minor": 2
}
