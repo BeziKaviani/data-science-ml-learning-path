{
 "cells": [
  {
   "cell_type": "code",
   "execution_count": 3,
   "id": "4ef9113f",
   "metadata": {},
   "outputs": [],
   "source": [
    "import numpy as np"
   ]
  },
  {
   "cell_type": "code",
   "execution_count": 4,
   "id": "d133ce83",
   "metadata": {},
   "outputs": [
    {
     "name": "stdout",
     "output_type": "stream",
     "text": [
      "<class 'list'>\n"
     ]
    }
   ],
   "source": [
    "row = [1, 2 , 3]\n",
    "print(type(row))"
   ]
  },
  {
   "cell_type": "markdown",
   "id": "15cdc9ca",
   "metadata": {},
   "source": [
    "To work wit datas and list, we should convert them to numpy array at first. \n",
    "This lets us to use numpy methods for the following array. Also it uses C programming language\n",
    "which makes the execution faster than before."
   ]
  },
  {
   "cell_type": "code",
   "execution_count": null,
   "id": "4d21b259",
   "metadata": {},
   "outputs": [
    {
     "name": "stdout",
     "output_type": "stream",
     "text": [
      "<class 'numpy.ndarray'>\n"
     ]
    }
   ],
   "source": [
    "nrow = np.array(row)\n",
    "print(type(nrow))"
   ]
  },
  {
   "cell_type": "code",
   "execution_count": null,
   "id": "ebe3fa80",
   "metadata": {},
   "outputs": [],
   "source": []
  }
 ],
 "metadata": {
  "kernelspec": {
   "display_name": "base",
   "language": "python",
   "name": "python3"
  },
  "language_info": {
   "codemirror_mode": {
    "name": "ipython",
    "version": 3
   },
   "file_extension": ".py",
   "mimetype": "text/x-python",
   "name": "python",
   "nbconvert_exporter": "python",
   "pygments_lexer": "ipython3",
   "version": "3.12.3"
  }
 },
 "nbformat": 4,
 "nbformat_minor": 5
}
