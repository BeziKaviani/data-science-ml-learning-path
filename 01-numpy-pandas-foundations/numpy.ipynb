{
 "cells": [
  {
   "cell_type": "code",
   "execution_count": 1,
   "id": "4ef9113f",
   "metadata": {},
   "outputs": [],
   "source": [
    "import numpy as np"
   ]
  },
  {
   "cell_type": "code",
   "execution_count": 2,
   "id": "d133ce83",
   "metadata": {},
   "outputs": [
    {
     "name": "stdout",
     "output_type": "stream",
     "text": [
      "<class 'list'>\n"
     ]
    }
   ],
   "source": [
    "row = [1, 2 , 3]\n",
    "print(type(row))"
   ]
  },
  {
   "cell_type": "markdown",
   "id": "15cdc9ca",
   "metadata": {},
   "source": [
    "To work wit datas and list, we should convert them to numpy array at first. \n",
    "This lets us to use numpy methods for the following array. Also it uses C programming language\n",
    "which makes the execution faster than before."
   ]
  },
  {
   "cell_type": "code",
   "execution_count": 3,
   "id": "4d21b259",
   "metadata": {},
   "outputs": [
    {
     "name": "stdout",
     "output_type": "stream",
     "text": [
      "<class 'numpy.ndarray'>\n"
     ]
    }
   ],
   "source": [
    "nrow = np.array(row)\n",
    "print(type(nrow))"
   ]
  },
  {
   "cell_type": "code",
   "execution_count": 4,
   "id": "ebe3fa80",
   "metadata": {},
   "outputs": [],
   "source": [
    "matrix = np.array([[0, 1, 2],\n",
    "                   [3, 4, 5],\n",
    "                   [6, 7, 8]])"
   ]
  },
  {
   "cell_type": "markdown",
   "id": "2f467550",
   "metadata": {},
   "source": [
    "I guess a property is been set on this method (shape) that we can use it without ()"
   ]
  },
  {
   "cell_type": "code",
   "execution_count": 7,
   "id": "040ac01f",
   "metadata": {},
   "outputs": [
    {
     "data": {
      "text/plain": [
       "(3, 3)"
      ]
     },
     "execution_count": 7,
     "metadata": {},
     "output_type": "execute_result"
    }
   ],
   "source": [
    "matrix.shape"
   ]
  },
  {
   "cell_type": "markdown",
   "id": "46b20400",
   "metadata": {},
   "source": [
    "Tensor is an matrix that contains matrix in each element"
   ]
  },
  {
   "cell_type": "code",
   "execution_count": 10,
   "id": "fe144b1a",
   "metadata": {},
   "outputs": [],
   "source": [
    "tensor = np.array([[[1, 2, 3], [4, 5, 6], [7, 8, 9]],\n",
    "                   [[12, 13, 11], [0, 22, 3], [1, 2, 3]],\n",
    "                   [[14, 33, 54], [23, 11, 7], [13, 90, 8]]])"
   ]
  },
  {
   "cell_type": "markdown",
   "id": "1ac68bb5",
   "metadata": {},
   "source": [
    "Changing the shape of numpy array"
   ]
  },
  {
   "cell_type": "code",
   "execution_count": null,
   "id": "ea88e2f6",
   "metadata": {},
   "outputs": [
    {
     "data": {
      "text/plain": [
       "array([[1, 2, 3],\n",
       "       [1, 2, 3],\n",
       "       [1, 2, 3]])"
      ]
     },
     "execution_count": 16,
     "metadata": {},
     "output_type": "execute_result"
    }
   ],
   "source": [
    "row = np.array([1, 2, 3])\n",
    "np.resize(row, (3, 3))"
   ]
  },
  {
   "cell_type": "markdown",
   "id": "9aa7cdb9",
   "metadata": {},
   "source": [
    "We can use this method like this too"
   ]
  },
  {
   "cell_type": "code",
   "execution_count": 21,
   "id": "8fac27a2",
   "metadata": {},
   "outputs": [
    {
     "name": "stdout",
     "output_type": "stream",
     "text": [
      "[[1 2]\n",
      " [3 0]]\n"
     ]
    }
   ],
   "source": [
    "row.resize((2,2))\n",
    "print(row)"
   ]
  },
  {
   "cell_type": "code",
   "execution_count": null,
   "id": "77cedd70",
   "metadata": {},
   "outputs": [],
   "source": []
  }
 ],
 "metadata": {
  "kernelspec": {
   "display_name": "base",
   "language": "python",
   "name": "python3"
  },
  "language_info": {
   "codemirror_mode": {
    "name": "ipython",
    "version": 3
   },
   "file_extension": ".py",
   "mimetype": "text/x-python",
   "name": "python",
   "nbconvert_exporter": "python",
   "pygments_lexer": "ipython3",
   "version": "3.12.3"
  }
 },
 "nbformat": 4,
 "nbformat_minor": 5
}
