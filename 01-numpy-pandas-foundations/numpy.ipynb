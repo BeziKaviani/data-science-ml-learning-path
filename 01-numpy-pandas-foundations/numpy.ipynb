{
 "cells": [
  {
   "cell_type": "code",
   "execution_count": 82,
   "id": "4ef9113f",
   "metadata": {},
   "outputs": [],
   "source": [
    "import numpy as np"
   ]
  },
  {
   "cell_type": "code",
   "execution_count": 83,
   "id": "d133ce83",
   "metadata": {},
   "outputs": [
    {
     "name": "stdout",
     "output_type": "stream",
     "text": [
      "<class 'list'>\n"
     ]
    }
   ],
   "source": [
    "row = [1, 2 , 3]\n",
    "print(type(row))"
   ]
  },
  {
   "cell_type": "markdown",
   "id": "15cdc9ca",
   "metadata": {},
   "source": [
    "To work wit datas and list, we should convert them to numpy array at first. \n",
    "This lets us to use numpy methods for the following array. Also it uses C programming language\n",
    "which makes the execution faster than before."
   ]
  },
  {
   "cell_type": "code",
   "execution_count": 84,
   "id": "4d21b259",
   "metadata": {},
   "outputs": [
    {
     "name": "stdout",
     "output_type": "stream",
     "text": [
      "<class 'numpy.ndarray'>\n"
     ]
    }
   ],
   "source": [
    "nrow = np.array(row)\n",
    "print(type(nrow))"
   ]
  },
  {
   "cell_type": "code",
   "execution_count": 85,
   "id": "ebe3fa80",
   "metadata": {},
   "outputs": [],
   "source": [
    "matrix = np.array([[0, 1, 2],\n",
    "                   [3, 4, 5],\n",
    "                   [6, 7, 8]])"
   ]
  },
  {
   "cell_type": "markdown",
   "id": "2f467550",
   "metadata": {},
   "source": [
    "I guess a property is been set on this method (shape) that we can use it without ()"
   ]
  },
  {
   "cell_type": "code",
   "execution_count": 86,
   "id": "040ac01f",
   "metadata": {},
   "outputs": [
    {
     "data": {
      "text/plain": [
       "(3, 3)"
      ]
     },
     "execution_count": 86,
     "metadata": {},
     "output_type": "execute_result"
    }
   ],
   "source": [
    "matrix.shape"
   ]
  },
  {
   "cell_type": "markdown",
   "id": "46b20400",
   "metadata": {},
   "source": [
    "Tensor is an matrix that contains matrix in each element"
   ]
  },
  {
   "cell_type": "code",
   "execution_count": 87,
   "id": "fe144b1a",
   "metadata": {},
   "outputs": [],
   "source": [
    "tensor = np.array([[[1, 2, 3], [4, 5, 6], [7, 8, 9]],\n",
    "                   [[12, 13, 11], [0, 22, 3], [1, 2, 3]],\n",
    "                   [[14, 33, 54], [23, 11, 7], [13, 90, 8]]])"
   ]
  },
  {
   "cell_type": "markdown",
   "id": "1ac68bb5",
   "metadata": {},
   "source": [
    "Changing the shape of numpy array"
   ]
  },
  {
   "cell_type": "code",
   "execution_count": 88,
   "id": "ea88e2f6",
   "metadata": {},
   "outputs": [
    {
     "data": {
      "text/plain": [
       "array([[1, 2, 3],\n",
       "       [1, 2, 3],\n",
       "       [1, 2, 3]])"
      ]
     },
     "execution_count": 88,
     "metadata": {},
     "output_type": "execute_result"
    }
   ],
   "source": [
    "row = np.array([1, 2, 3])\n",
    "np.resize(row, (3, 3))"
   ]
  },
  {
   "cell_type": "markdown",
   "id": "9aa7cdb9",
   "metadata": {},
   "source": [
    "We can use this method like this too"
   ]
  },
  {
   "cell_type": "code",
   "execution_count": 89,
   "id": "8fac27a2",
   "metadata": {},
   "outputs": [
    {
     "name": "stdout",
     "output_type": "stream",
     "text": [
      "[[1 2]\n",
      " [3 0]]\n"
     ]
    }
   ],
   "source": [
    "row.resize((2,2))\n",
    "print(row)"
   ]
  },
  {
   "cell_type": "markdown",
   "id": "25dbcf85",
   "metadata": {},
   "source": [
    "Creating matrix with only element 1"
   ]
  },
  {
   "cell_type": "code",
   "execution_count": 90,
   "id": "77cedd70",
   "metadata": {},
   "outputs": [
    {
     "data": {
      "text/plain": [
       "array([[1, 1, 1],\n",
       "       [1, 1, 1],\n",
       "       [1, 1, 1]])"
      ]
     },
     "execution_count": 90,
     "metadata": {},
     "output_type": "execute_result"
    }
   ],
   "source": [
    "np.ones((3,3), int)"
   ]
  },
  {
   "cell_type": "markdown",
   "id": "0d4c9396",
   "metadata": {},
   "source": [
    "Creating matrix with only element zero"
   ]
  },
  {
   "cell_type": "code",
   "execution_count": 91,
   "id": "0538c708",
   "metadata": {},
   "outputs": [
    {
     "data": {
      "text/plain": [
       "array([[0., 0., 0.],\n",
       "       [0., 0., 0.]])"
      ]
     },
     "execution_count": 91,
     "metadata": {},
     "output_type": "execute_result"
    }
   ],
   "source": [
    "np.zeros((2,3))"
   ]
  },
  {
   "cell_type": "code",
   "execution_count": 92,
   "id": "d8d53614",
   "metadata": {},
   "outputs": [
    {
     "name": "stdout",
     "output_type": "stream",
     "text": [
      "[[1 2]\n",
      " [3 0]]\n"
     ]
    },
    {
     "data": {
      "text/plain": [
       "array([1, 0])"
      ]
     },
     "execution_count": 92,
     "metadata": {},
     "output_type": "execute_result"
    }
   ],
   "source": [
    "print(row)\n",
    "np.diag(row)"
   ]
  },
  {
   "cell_type": "code",
   "execution_count": 93,
   "id": "f7545bdf",
   "metadata": {},
   "outputs": [
    {
     "data": {
      "text/plain": [
       "array([1, 1, 1, 2, 2, 2, 3, 3, 3])"
      ]
     },
     "execution_count": 93,
     "metadata": {},
     "output_type": "execute_result"
    }
   ],
   "source": [
    "row = np.repeat([1, 2, 3], 3)\n",
    "row"
   ]
  },
  {
   "cell_type": "code",
   "execution_count": 94,
   "id": "2bcfd216",
   "metadata": {},
   "outputs": [],
   "source": [
    "matrix_1 = np.ones((3,3))\n",
    "matrix_0 = np.zeros((3,3))"
   ]
  },
  {
   "cell_type": "markdown",
   "id": "e056de08",
   "metadata": {},
   "source": [
    "vstack method will put the x on y\n",
    "[x,y] - > x and y are np arrays\n",
    "Note : x and y should be placed in a list"
   ]
  },
  {
   "cell_type": "code",
   "execution_count": 95,
   "id": "27360b0e",
   "metadata": {},
   "outputs": [
    {
     "data": {
      "text/plain": [
       "array([[1., 1., 1.],\n",
       "       [1., 1., 1.],\n",
       "       [1., 1., 1.],\n",
       "       [0., 0., 0.],\n",
       "       [0., 0., 0.],\n",
       "       [0., 0., 0.]])"
      ]
     },
     "execution_count": 95,
     "metadata": {},
     "output_type": "execute_result"
    }
   ],
   "source": [
    "np.vstack([matrix_1, matrix_0])"
   ]
  },
  {
   "cell_type": "markdown",
   "id": "deb4bcb5",
   "metadata": {},
   "source": [
    "hstack method will put the y in the right of x\n",
    "[x,y]"
   ]
  },
  {
   "cell_type": "code",
   "execution_count": 96,
   "id": "b228dd8b",
   "metadata": {},
   "outputs": [
    {
     "data": {
      "text/plain": [
       "array([[1., 1., 1., 0., 0., 0.],\n",
       "       [1., 1., 1., 0., 0., 0.],\n",
       "       [1., 1., 1., 0., 0., 0.]])"
      ]
     },
     "execution_count": 96,
     "metadata": {},
     "output_type": "execute_result"
    }
   ],
   "source": [
    "np.hstack([matrix_1, matrix_0])"
   ]
  },
  {
   "cell_type": "code",
   "execution_count": 97,
   "id": "3104843b",
   "metadata": {},
   "outputs": [
    {
     "data": {
      "text/plain": [
       "array([ 0, 15, 10,  7, 88,  5,  0])"
      ]
     },
     "execution_count": 97,
     "metadata": {},
     "output_type": "execute_result"
    }
   ],
   "source": [
    "row_1 = np.array([1, 3 , 5, 7, 8, 1, 0])\n",
    "row_2 = np.array([0, 5 , 2, 1, 11, 5, 0])\n",
    "row_1 * row_2"
   ]
  },
  {
   "cell_type": "code",
   "execution_count": 98,
   "id": "86edff08",
   "metadata": {},
   "outputs": [
    {
     "data": {
      "text/plain": [
       "125"
      ]
     },
     "execution_count": 98,
     "metadata": {},
     "output_type": "execute_result"
    }
   ],
   "source": [
    "row_1.dot(row_2)"
   ]
  },
  {
   "cell_type": "code",
   "execution_count": 99,
   "id": "34c6eb33",
   "metadata": {},
   "outputs": [
    {
     "data": {
      "text/plain": [
       "array([[1, 4, 7],\n",
       "       [2, 5, 8],\n",
       "       [3, 6, 9]])"
      ]
     },
     "execution_count": 99,
     "metadata": {},
     "output_type": "execute_result"
    }
   ],
   "source": [
    "matrix = np.array([\n",
    "            [1, 2, 3],\n",
    "            [4, 5, 6],\n",
    "            [7, 8, 9]])\n",
    "matrix.T"
   ]
  },
  {
   "cell_type": "code",
   "execution_count": 100,
   "id": "87f05e16",
   "metadata": {},
   "outputs": [
    {
     "data": {
      "text/plain": [
       "45"
      ]
     },
     "execution_count": 100,
     "metadata": {},
     "output_type": "execute_result"
    }
   ],
   "source": [
    "matrix.sum()"
   ]
  },
  {
   "cell_type": "code",
   "execution_count": 101,
   "id": "325b6b55",
   "metadata": {},
   "outputs": [
    {
     "data": {
      "text/plain": [
       "9"
      ]
     },
     "execution_count": 101,
     "metadata": {},
     "output_type": "execute_result"
    }
   ],
   "source": [
    "matrix.max()"
   ]
  },
  {
   "cell_type": "code",
   "execution_count": 102,
   "id": "241bf293",
   "metadata": {},
   "outputs": [
    {
     "data": {
      "text/plain": [
       "8"
      ]
     },
     "execution_count": 102,
     "metadata": {},
     "output_type": "execute_result"
    }
   ],
   "source": [
    "matrix.argmax()"
   ]
  },
  {
   "cell_type": "code",
   "execution_count": 103,
   "id": "f58e0b27",
   "metadata": {},
   "outputs": [
    {
     "data": {
      "text/plain": [
       "1"
      ]
     },
     "execution_count": 103,
     "metadata": {},
     "output_type": "execute_result"
    }
   ],
   "source": [
    "matrix.min()"
   ]
  },
  {
   "cell_type": "code",
   "execution_count": 104,
   "id": "37500fd9",
   "metadata": {},
   "outputs": [
    {
     "data": {
      "text/plain": [
       "0"
      ]
     },
     "execution_count": 104,
     "metadata": {},
     "output_type": "execute_result"
    }
   ],
   "source": [
    "matrix.argmin()"
   ]
  },
  {
   "cell_type": "code",
   "execution_count": 105,
   "id": "74e3825e",
   "metadata": {},
   "outputs": [
    {
     "data": {
      "text/plain": [
       "5.0"
      ]
     },
     "execution_count": 105,
     "metadata": {},
     "output_type": "execute_result"
    }
   ],
   "source": [
    "matrix.mean()"
   ]
  },
  {
   "cell_type": "code",
   "execution_count": 106,
   "id": "c6979723",
   "metadata": {},
   "outputs": [
    {
     "data": {
      "text/plain": [
       "2.581988897471611"
      ]
     },
     "execution_count": 106,
     "metadata": {},
     "output_type": "execute_result"
    }
   ],
   "source": [
    "matrix.std()"
   ]
  },
  {
   "cell_type": "code",
   "execution_count": 107,
   "id": "fea3f2ee",
   "metadata": {},
   "outputs": [
    {
     "data": {
      "text/plain": [
       "array([  0,   1,   4,   9,  16,  25,  36,  49,  64,  81, 100])"
      ]
     },
     "execution_count": 107,
     "metadata": {},
     "output_type": "execute_result"
    }
   ],
   "source": [
    "row = np.arange(11) ** 2\n",
    "row"
   ]
  },
  {
   "cell_type": "code",
   "execution_count": 108,
   "id": "87cace5f",
   "metadata": {},
   "outputs": [
    {
     "data": {
      "text/plain": [
       "array([ 1,  4,  9, 16, 25, 36, 49])"
      ]
     },
     "execution_count": 108,
     "metadata": {},
     "output_type": "execute_result"
    }
   ],
   "source": [
    "row[1:8]"
   ]
  },
  {
   "cell_type": "code",
   "execution_count": 109,
   "id": "d4a60248",
   "metadata": {},
   "outputs": [
    {
     "data": {
      "text/plain": [
       "array([  0,   4,  16,  36,  64, 100])"
      ]
     },
     "execution_count": 109,
     "metadata": {},
     "output_type": "execute_result"
    }
   ],
   "source": [
    "row[::2]"
   ]
  },
  {
   "cell_type": "code",
   "execution_count": 110,
   "id": "05703b53",
   "metadata": {},
   "outputs": [
    {
     "data": {
      "text/plain": [
       "array([49, 64, 81])"
      ]
     },
     "execution_count": 110,
     "metadata": {},
     "output_type": "execute_result"
    }
   ],
   "source": [
    "row[-4:10]"
   ]
  },
  {
   "cell_type": "code",
   "execution_count": 111,
   "id": "86d9d08a",
   "metadata": {},
   "outputs": [
    {
     "data": {
      "text/plain": [
       "array([[1, 2, 3],\n",
       "       [4, 5, 6],\n",
       "       [7, 8, 9]])"
      ]
     },
     "execution_count": 111,
     "metadata": {},
     "output_type": "execute_result"
    }
   ],
   "source": [
    "matrix"
   ]
  },
  {
   "cell_type": "code",
   "execution_count": 112,
   "id": "01f83560",
   "metadata": {},
   "outputs": [
    {
     "data": {
      "text/plain": [
       "array([[5, 6],\n",
       "       [8, 9]])"
      ]
     },
     "execution_count": 112,
     "metadata": {},
     "output_type": "execute_result"
    }
   ],
   "source": [
    "matrix[1:3, 1:3]"
   ]
  },
  {
   "cell_type": "code",
   "execution_count": 113,
   "id": "ed992431",
   "metadata": {},
   "outputs": [
    {
     "data": {
      "text/plain": [
       "array([[1, 3],\n",
       "       [4, 6],\n",
       "       [7, 9]])"
      ]
     },
     "execution_count": 113,
     "metadata": {},
     "output_type": "execute_result"
    }
   ],
   "source": [
    "matrix[:, ::2]"
   ]
  },
  {
   "cell_type": "code",
   "execution_count": 114,
   "id": "7bf800a6",
   "metadata": {},
   "outputs": [
    {
     "data": {
      "text/plain": [
       "array([1, 2, 3])"
      ]
     },
     "execution_count": 114,
     "metadata": {},
     "output_type": "execute_result"
    }
   ],
   "source": [
    "matrix[matrix < 4]"
   ]
  },
  {
   "cell_type": "code",
   "execution_count": 115,
   "id": "217c3873",
   "metadata": {},
   "outputs": [
    {
     "data": {
      "text/plain": [
       "array([[False, False, False],\n",
       "       [ True, False, False],\n",
       "       [False, False, False]])"
      ]
     },
     "execution_count": 115,
     "metadata": {},
     "output_type": "execute_result"
    }
   ],
   "source": [
    "matrix == 4"
   ]
  },
  {
   "cell_type": "code",
   "execution_count": 116,
   "id": "e09d9f34",
   "metadata": {},
   "outputs": [
    {
     "data": {
      "text/plain": [
       "array([[False, False, False],\n",
       "       [False, False, False],\n",
       "       [False,  True,  True]])"
      ]
     },
     "execution_count": 116,
     "metadata": {},
     "output_type": "execute_result"
    }
   ],
   "source": [
    "matrix > 7"
   ]
  },
  {
   "cell_type": "code",
   "execution_count": 118,
   "id": "ddf1b2cd",
   "metadata": {},
   "outputs": [
    {
     "data": {
      "text/plain": [
       "array([[1, 2, 3],\n",
       "       [4, 5, 0],\n",
       "       [0, 0, 0]])"
      ]
     },
     "execution_count": 118,
     "metadata": {},
     "output_type": "execute_result"
    }
   ],
   "source": [
    "matrix[matrix > 5] = 0\n",
    "matrix"
   ]
  },
  {
   "cell_type": "markdown",
   "id": "3bdeaa12",
   "metadata": {},
   "source": [
    "Creating np array with random integer numbers between x and y and with shape of n\n",
    "(x, y, (n))"
   ]
  },
  {
   "cell_type": "code",
   "execution_count": 121,
   "id": "20f08a08",
   "metadata": {},
   "outputs": [
    {
     "data": {
      "text/plain": [
       "array([[1, 6, 2],\n",
       "       [4, 5, 7],\n",
       "       [3, 7, 7]])"
      ]
     },
     "execution_count": 121,
     "metadata": {},
     "output_type": "execute_result"
    }
   ],
   "source": [
    "matrix = np.random.randint(1, 10, (3,3))\n",
    "matrix"
   ]
  },
  {
   "cell_type": "code",
   "execution_count": null,
   "id": "76c87543",
   "metadata": {},
   "outputs": [],
   "source": []
  }
 ],
 "metadata": {
  "kernelspec": {
   "display_name": "base",
   "language": "python",
   "name": "python3"
  },
  "language_info": {
   "codemirror_mode": {
    "name": "ipython",
    "version": 3
   },
   "file_extension": ".py",
   "mimetype": "text/x-python",
   "name": "python",
   "nbconvert_exporter": "python",
   "pygments_lexer": "ipython3",
   "version": "3.12.3"
  }
 },
 "nbformat": 4,
 "nbformat_minor": 5
}
