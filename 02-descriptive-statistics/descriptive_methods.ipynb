{
 "cells": [
  {
   "cell_type": "code",
   "execution_count": 1,
   "metadata": {},
   "outputs": [],
   "source": [
    "import pandas as pd\n",
    "import numpy as np\n",
    "import scipy.stats as sp\n",
    "import matplotlib.pyplot as plt\n",
    "import seaborn as sns"
   ]
  },
  {
   "cell_type": "code",
   "execution_count": 2,
   "metadata": {},
   "outputs": [
    {
     "data": {
      "text/html": [
       "<div>\n",
       "<style scoped>\n",
       "    .dataframe tbody tr th:only-of-type {\n",
       "        vertical-align: middle;\n",
       "    }\n",
       "\n",
       "    .dataframe tbody tr th {\n",
       "        vertical-align: top;\n",
       "    }\n",
       "\n",
       "    .dataframe thead th {\n",
       "        text-align: right;\n",
       "    }\n",
       "</style>\n",
       "<table border=\"1\" class=\"dataframe\">\n",
       "  <thead>\n",
       "    <tr style=\"text-align: right;\">\n",
       "      <th></th>\n",
       "      <th>id</th>\n",
       "      <th>year</th>\n",
       "      <th>month</th>\n",
       "      <th>day</th>\n",
       "      <th>dep_time</th>\n",
       "      <th>sched_dep_time</th>\n",
       "      <th>dep_delay</th>\n",
       "      <th>arr_time</th>\n",
       "      <th>sched_arr_time</th>\n",
       "      <th>arr_delay</th>\n",
       "      <th>...</th>\n",
       "      <th>flight</th>\n",
       "      <th>tailnum</th>\n",
       "      <th>origin</th>\n",
       "      <th>dest</th>\n",
       "      <th>air_time</th>\n",
       "      <th>distance</th>\n",
       "      <th>hour</th>\n",
       "      <th>minute</th>\n",
       "      <th>time_hour</th>\n",
       "      <th>name</th>\n",
       "    </tr>\n",
       "  </thead>\n",
       "  <tbody>\n",
       "    <tr>\n",
       "      <th>0</th>\n",
       "      <td>0</td>\n",
       "      <td>2013</td>\n",
       "      <td>1</td>\n",
       "      <td>1</td>\n",
       "      <td>517.0</td>\n",
       "      <td>515</td>\n",
       "      <td>2.0</td>\n",
       "      <td>830.0</td>\n",
       "      <td>819</td>\n",
       "      <td>11.0</td>\n",
       "      <td>...</td>\n",
       "      <td>1545</td>\n",
       "      <td>N14228</td>\n",
       "      <td>EWR</td>\n",
       "      <td>IAH</td>\n",
       "      <td>227.0</td>\n",
       "      <td>1400</td>\n",
       "      <td>5</td>\n",
       "      <td>15</td>\n",
       "      <td>2013-01-01 05:00:00</td>\n",
       "      <td>United Air Lines Inc.</td>\n",
       "    </tr>\n",
       "    <tr>\n",
       "      <th>1</th>\n",
       "      <td>1</td>\n",
       "      <td>2013</td>\n",
       "      <td>1</td>\n",
       "      <td>1</td>\n",
       "      <td>533.0</td>\n",
       "      <td>529</td>\n",
       "      <td>4.0</td>\n",
       "      <td>850.0</td>\n",
       "      <td>830</td>\n",
       "      <td>20.0</td>\n",
       "      <td>...</td>\n",
       "      <td>1714</td>\n",
       "      <td>N24211</td>\n",
       "      <td>LGA</td>\n",
       "      <td>IAH</td>\n",
       "      <td>227.0</td>\n",
       "      <td>1416</td>\n",
       "      <td>5</td>\n",
       "      <td>29</td>\n",
       "      <td>2013-01-01 05:00:00</td>\n",
       "      <td>United Air Lines Inc.</td>\n",
       "    </tr>\n",
       "    <tr>\n",
       "      <th>2</th>\n",
       "      <td>2</td>\n",
       "      <td>2013</td>\n",
       "      <td>1</td>\n",
       "      <td>1</td>\n",
       "      <td>542.0</td>\n",
       "      <td>540</td>\n",
       "      <td>2.0</td>\n",
       "      <td>923.0</td>\n",
       "      <td>850</td>\n",
       "      <td>33.0</td>\n",
       "      <td>...</td>\n",
       "      <td>1141</td>\n",
       "      <td>N619AA</td>\n",
       "      <td>JFK</td>\n",
       "      <td>MIA</td>\n",
       "      <td>160.0</td>\n",
       "      <td>1089</td>\n",
       "      <td>5</td>\n",
       "      <td>40</td>\n",
       "      <td>2013-01-01 05:00:00</td>\n",
       "      <td>American Airlines Inc.</td>\n",
       "    </tr>\n",
       "    <tr>\n",
       "      <th>3</th>\n",
       "      <td>3</td>\n",
       "      <td>2013</td>\n",
       "      <td>1</td>\n",
       "      <td>1</td>\n",
       "      <td>544.0</td>\n",
       "      <td>545</td>\n",
       "      <td>-1.0</td>\n",
       "      <td>1004.0</td>\n",
       "      <td>1022</td>\n",
       "      <td>-18.0</td>\n",
       "      <td>...</td>\n",
       "      <td>725</td>\n",
       "      <td>N804JB</td>\n",
       "      <td>JFK</td>\n",
       "      <td>BQN</td>\n",
       "      <td>183.0</td>\n",
       "      <td>1576</td>\n",
       "      <td>5</td>\n",
       "      <td>45</td>\n",
       "      <td>2013-01-01 05:00:00</td>\n",
       "      <td>JetBlue Airways</td>\n",
       "    </tr>\n",
       "    <tr>\n",
       "      <th>4</th>\n",
       "      <td>4</td>\n",
       "      <td>2013</td>\n",
       "      <td>1</td>\n",
       "      <td>1</td>\n",
       "      <td>554.0</td>\n",
       "      <td>600</td>\n",
       "      <td>-6.0</td>\n",
       "      <td>812.0</td>\n",
       "      <td>837</td>\n",
       "      <td>-25.0</td>\n",
       "      <td>...</td>\n",
       "      <td>461</td>\n",
       "      <td>N668DN</td>\n",
       "      <td>LGA</td>\n",
       "      <td>ATL</td>\n",
       "      <td>116.0</td>\n",
       "      <td>762</td>\n",
       "      <td>6</td>\n",
       "      <td>0</td>\n",
       "      <td>2013-01-01 06:00:00</td>\n",
       "      <td>Delta Air Lines Inc.</td>\n",
       "    </tr>\n",
       "    <tr>\n",
       "      <th>...</th>\n",
       "      <td>...</td>\n",
       "      <td>...</td>\n",
       "      <td>...</td>\n",
       "      <td>...</td>\n",
       "      <td>...</td>\n",
       "      <td>...</td>\n",
       "      <td>...</td>\n",
       "      <td>...</td>\n",
       "      <td>...</td>\n",
       "      <td>...</td>\n",
       "      <td>...</td>\n",
       "      <td>...</td>\n",
       "      <td>...</td>\n",
       "      <td>...</td>\n",
       "      <td>...</td>\n",
       "      <td>...</td>\n",
       "      <td>...</td>\n",
       "      <td>...</td>\n",
       "      <td>...</td>\n",
       "      <td>...</td>\n",
       "      <td>...</td>\n",
       "    </tr>\n",
       "    <tr>\n",
       "      <th>336771</th>\n",
       "      <td>336771</td>\n",
       "      <td>2013</td>\n",
       "      <td>9</td>\n",
       "      <td>30</td>\n",
       "      <td>NaN</td>\n",
       "      <td>1455</td>\n",
       "      <td>NaN</td>\n",
       "      <td>NaN</td>\n",
       "      <td>1634</td>\n",
       "      <td>NaN</td>\n",
       "      <td>...</td>\n",
       "      <td>3393</td>\n",
       "      <td>NaN</td>\n",
       "      <td>JFK</td>\n",
       "      <td>DCA</td>\n",
       "      <td>NaN</td>\n",
       "      <td>213</td>\n",
       "      <td>14</td>\n",
       "      <td>55</td>\n",
       "      <td>2013-09-30 14:00:00</td>\n",
       "      <td>Endeavor Air Inc.</td>\n",
       "    </tr>\n",
       "    <tr>\n",
       "      <th>336772</th>\n",
       "      <td>336772</td>\n",
       "      <td>2013</td>\n",
       "      <td>9</td>\n",
       "      <td>30</td>\n",
       "      <td>NaN</td>\n",
       "      <td>2200</td>\n",
       "      <td>NaN</td>\n",
       "      <td>NaN</td>\n",
       "      <td>2312</td>\n",
       "      <td>NaN</td>\n",
       "      <td>...</td>\n",
       "      <td>3525</td>\n",
       "      <td>NaN</td>\n",
       "      <td>LGA</td>\n",
       "      <td>SYR</td>\n",
       "      <td>NaN</td>\n",
       "      <td>198</td>\n",
       "      <td>22</td>\n",
       "      <td>0</td>\n",
       "      <td>2013-09-30 22:00:00</td>\n",
       "      <td>Endeavor Air Inc.</td>\n",
       "    </tr>\n",
       "    <tr>\n",
       "      <th>336773</th>\n",
       "      <td>336773</td>\n",
       "      <td>2013</td>\n",
       "      <td>9</td>\n",
       "      <td>30</td>\n",
       "      <td>NaN</td>\n",
       "      <td>1210</td>\n",
       "      <td>NaN</td>\n",
       "      <td>NaN</td>\n",
       "      <td>1330</td>\n",
       "      <td>NaN</td>\n",
       "      <td>...</td>\n",
       "      <td>3461</td>\n",
       "      <td>N535MQ</td>\n",
       "      <td>LGA</td>\n",
       "      <td>BNA</td>\n",
       "      <td>NaN</td>\n",
       "      <td>764</td>\n",
       "      <td>12</td>\n",
       "      <td>10</td>\n",
       "      <td>2013-09-30 12:00:00</td>\n",
       "      <td>Envoy Air</td>\n",
       "    </tr>\n",
       "    <tr>\n",
       "      <th>336774</th>\n",
       "      <td>336774</td>\n",
       "      <td>2013</td>\n",
       "      <td>9</td>\n",
       "      <td>30</td>\n",
       "      <td>NaN</td>\n",
       "      <td>1159</td>\n",
       "      <td>NaN</td>\n",
       "      <td>NaN</td>\n",
       "      <td>1344</td>\n",
       "      <td>NaN</td>\n",
       "      <td>...</td>\n",
       "      <td>3572</td>\n",
       "      <td>N511MQ</td>\n",
       "      <td>LGA</td>\n",
       "      <td>CLE</td>\n",
       "      <td>NaN</td>\n",
       "      <td>419</td>\n",
       "      <td>11</td>\n",
       "      <td>59</td>\n",
       "      <td>2013-09-30 11:00:00</td>\n",
       "      <td>Envoy Air</td>\n",
       "    </tr>\n",
       "    <tr>\n",
       "      <th>336775</th>\n",
       "      <td>336775</td>\n",
       "      <td>2013</td>\n",
       "      <td>9</td>\n",
       "      <td>30</td>\n",
       "      <td>NaN</td>\n",
       "      <td>840</td>\n",
       "      <td>NaN</td>\n",
       "      <td>NaN</td>\n",
       "      <td>1020</td>\n",
       "      <td>NaN</td>\n",
       "      <td>...</td>\n",
       "      <td>3531</td>\n",
       "      <td>N839MQ</td>\n",
       "      <td>LGA</td>\n",
       "      <td>RDU</td>\n",
       "      <td>NaN</td>\n",
       "      <td>431</td>\n",
       "      <td>8</td>\n",
       "      <td>40</td>\n",
       "      <td>2013-09-30 08:00:00</td>\n",
       "      <td>Envoy Air</td>\n",
       "    </tr>\n",
       "  </tbody>\n",
       "</table>\n",
       "<p>336776 rows × 21 columns</p>\n",
       "</div>"
      ],
      "text/plain": [
       "            id  year  month  day  dep_time  sched_dep_time  dep_delay  \\\n",
       "0            0  2013      1    1     517.0             515        2.0   \n",
       "1            1  2013      1    1     533.0             529        4.0   \n",
       "2            2  2013      1    1     542.0             540        2.0   \n",
       "3            3  2013      1    1     544.0             545       -1.0   \n",
       "4            4  2013      1    1     554.0             600       -6.0   \n",
       "...        ...   ...    ...  ...       ...             ...        ...   \n",
       "336771  336771  2013      9   30       NaN            1455        NaN   \n",
       "336772  336772  2013      9   30       NaN            2200        NaN   \n",
       "336773  336773  2013      9   30       NaN            1210        NaN   \n",
       "336774  336774  2013      9   30       NaN            1159        NaN   \n",
       "336775  336775  2013      9   30       NaN             840        NaN   \n",
       "\n",
       "        arr_time  sched_arr_time  arr_delay  ... flight  tailnum origin dest  \\\n",
       "0          830.0             819       11.0  ...   1545   N14228    EWR  IAH   \n",
       "1          850.0             830       20.0  ...   1714   N24211    LGA  IAH   \n",
       "2          923.0             850       33.0  ...   1141   N619AA    JFK  MIA   \n",
       "3         1004.0            1022      -18.0  ...    725   N804JB    JFK  BQN   \n",
       "4          812.0             837      -25.0  ...    461   N668DN    LGA  ATL   \n",
       "...          ...             ...        ...  ...    ...      ...    ...  ...   \n",
       "336771       NaN            1634        NaN  ...   3393      NaN    JFK  DCA   \n",
       "336772       NaN            2312        NaN  ...   3525      NaN    LGA  SYR   \n",
       "336773       NaN            1330        NaN  ...   3461   N535MQ    LGA  BNA   \n",
       "336774       NaN            1344        NaN  ...   3572   N511MQ    LGA  CLE   \n",
       "336775       NaN            1020        NaN  ...   3531   N839MQ    LGA  RDU   \n",
       "\n",
       "       air_time  distance  hour  minute            time_hour  \\\n",
       "0         227.0      1400     5      15  2013-01-01 05:00:00   \n",
       "1         227.0      1416     5      29  2013-01-01 05:00:00   \n",
       "2         160.0      1089     5      40  2013-01-01 05:00:00   \n",
       "3         183.0      1576     5      45  2013-01-01 05:00:00   \n",
       "4         116.0       762     6       0  2013-01-01 06:00:00   \n",
       "...         ...       ...   ...     ...                  ...   \n",
       "336771      NaN       213    14      55  2013-09-30 14:00:00   \n",
       "336772      NaN       198    22       0  2013-09-30 22:00:00   \n",
       "336773      NaN       764    12      10  2013-09-30 12:00:00   \n",
       "336774      NaN       419    11      59  2013-09-30 11:00:00   \n",
       "336775      NaN       431     8      40  2013-09-30 08:00:00   \n",
       "\n",
       "                          name  \n",
       "0        United Air Lines Inc.  \n",
       "1        United Air Lines Inc.  \n",
       "2       American Airlines Inc.  \n",
       "3              JetBlue Airways  \n",
       "4         Delta Air Lines Inc.  \n",
       "...                        ...  \n",
       "336771       Endeavor Air Inc.  \n",
       "336772       Endeavor Air Inc.  \n",
       "336773               Envoy Air  \n",
       "336774               Envoy Air  \n",
       "336775               Envoy Air  \n",
       "\n",
       "[336776 rows x 21 columns]"
      ]
     },
     "execution_count": 2,
     "metadata": {},
     "output_type": "execute_result"
    }
   ],
   "source": [
    "flight_data = pd.read_csv('datasets/flights/flights.csv')\n",
    "flight_data"
   ]
  },
  {
   "cell_type": "code",
   "execution_count": 3,
   "metadata": {},
   "outputs": [
    {
     "data": {
      "text/plain": [
       "150.68646019807787"
      ]
     },
     "execution_count": 3,
     "metadata": {},
     "output_type": "execute_result"
    }
   ],
   "source": [
    "flight_data['air_time'].mean()"
   ]
  },
  {
   "cell_type": "markdown",
   "metadata": {},
   "source": [
    "trim_mean(x,y) is a method from scipy.stats library which is like mean() but it is not sensitive to the noises\n",
    "x -> column \n",
    "y -> percise"
   ]
  },
  {
   "cell_type": "code",
   "execution_count": 4,
   "metadata": {},
   "outputs": [
    {
     "data": {
      "text/plain": [
       "146.1634684621152"
      ]
     },
     "execution_count": 4,
     "metadata": {},
     "output_type": "execute_result"
    }
   ],
   "source": [
    "sp.trim_mean(flight_data['air_time'],0.1)"
   ]
  },
  {
   "cell_type": "code",
   "execution_count": 5,
   "metadata": {},
   "outputs": [
    {
     "data": {
      "text/plain": [
       "129.0"
      ]
     },
     "execution_count": 5,
     "metadata": {},
     "output_type": "execute_result"
    }
   ],
   "source": [
    "flight_data['air_time'].median()"
   ]
  },
  {
   "cell_type": "code",
   "execution_count": 6,
   "metadata": {},
   "outputs": [
    {
     "data": {
      "text/plain": [
       "0    42.0\n",
       "Name: air_time, dtype: float64"
      ]
     },
     "execution_count": 6,
     "metadata": {},
     "output_type": "execute_result"
    }
   ],
   "source": [
    "flight_data['air_time'].mode()"
   ]
  },
  {
   "cell_type": "code",
   "execution_count": 7,
   "metadata": {},
   "outputs": [
    {
     "data": {
      "text/plain": [
       "8777.498429877467"
      ]
     },
     "execution_count": 7,
     "metadata": {},
     "output_type": "execute_result"
    }
   ],
   "source": [
    "flight_data['air_time'].var()"
   ]
  },
  {
   "cell_type": "code",
   "execution_count": 8,
   "metadata": {},
   "outputs": [
    {
     "data": {
      "text/plain": [
       "93.68830465899929"
      ]
     },
     "execution_count": 8,
     "metadata": {},
     "output_type": "execute_result"
    }
   ],
   "source": [
    "flight_data['air_time'].std()"
   ]
  },
  {
   "cell_type": "code",
   "execution_count": 9,
   "metadata": {},
   "outputs": [
    {
     "data": {
      "text/plain": [
       "<Axes: >"
      ]
     },
     "execution_count": 9,
     "metadata": {},
     "output_type": "execute_result"
    },
    {
     "data": {
      "image/png": "[encoded data removed]",
      "text/plain": [
       "<Figure size 640x480 with 1 Axes>"
      ]
     },
     "metadata": {},
     "output_type": "display_data"
    }
   ],
   "source": [
    "flight_data['air_time'].hist(bins=100)"
   ]
  },
  {
   "cell_type": "code",
   "execution_count": 10,
   "metadata": {},
   "outputs": [
    {
     "data": {
      "text/plain": [
       "<Axes: >"
      ]
     },
     "execution_count": 10,
     "metadata": {},
     "output_type": "execute_result"
    },
    {
     "data": {
      "image/png": "[encoded data removed]",
      "text/plain": [
       "<Figure size 640x480 with 1 Axes>"
      ]
     },
     "metadata": {},
     "output_type": "display_data"
    }
   ],
   "source": [
    "flight_data['air_time'][flight_data['air_time']>150].hist(bins=100)"
   ]
  },
  {
   "cell_type": "code",
   "execution_count": 11,
   "metadata": {},
   "outputs": [
    {
     "data": {
      "text/plain": [
       "<Axes: >"
      ]
     },
     "execution_count": 11,
     "metadata": {},
     "output_type": "execute_result"
    },
    {
     "data": {
      "image/png": "[encoded data removed]",
      "text/plain": [
       "<Figure size 640x480 with 1 Axes>"
      ]
     },
     "metadata": {},
     "output_type": "display_data"
    }
   ],
   "source": [
    "flight_data['arr_delay'].hist(bins=500)"
   ]
  },
  {
   "cell_type": "markdown",
   "metadata": {},
   "source": [
    "As you can see this distirbution follows normal distirbution \n",
    "That means the mode is almost the mean and 68 percent of the data is included between (mean-std,mean+std)"
   ]
  },
  {
   "cell_type": "code",
   "execution_count": 12,
   "metadata": {},
   "outputs": [
    {
     "data": {
      "text/plain": [
       "<Axes: >"
      ]
     },
     "execution_count": 12,
     "metadata": {},
     "output_type": "execute_result"
    },
    {
     "data": {
      "image/png": "[encoded data removed]",
      "text/plain": [
       "<Figure size 640x480 with 1 Axes>"
      ]
     },
     "metadata": {},
     "output_type": "display_data"
    }
   ],
   "source": [
    "flight_data['arr_delay'][flight_data['arr_delay']<100].hist()"
   ]
  },
  {
   "cell_type": "code",
   "execution_count": 13,
   "metadata": {},
   "outputs": [
    {
     "data": {
      "text/plain": [
       "-0.16569653274241908"
      ]
     },
     "execution_count": 13,
     "metadata": {},
     "output_type": "execute_result"
    }
   ],
   "source": [
    "flight_data['arr_delay'][flight_data['arr_delay']<100].mean()"
   ]
  },
  {
   "cell_type": "code",
   "execution_count": 14,
   "metadata": {},
   "outputs": [
    {
     "data": {
      "text/plain": [
       "26.33182154440009"
      ]
     },
     "execution_count": 14,
     "metadata": {},
     "output_type": "execute_result"
    }
   ],
   "source": [
    "flight_data['arr_delay'][flight_data['arr_delay']<100].mean() + flight_data['arr_delay'][flight_data['arr_delay']<100].std()"
   ]
  },
  {
   "cell_type": "code",
   "execution_count": 15,
   "metadata": {},
   "outputs": [
    {
     "data": {
      "text/plain": [
       "-26.66321460988493"
      ]
     },
     "execution_count": 15,
     "metadata": {},
     "output_type": "execute_result"
    }
   ],
   "source": [
    "flight_data['arr_delay'][flight_data['arr_delay']<100].mean() - flight_data['arr_delay'][flight_data['arr_delay']<100].std()"
   ]
  },
  {
   "cell_type": "markdown",
   "metadata": {},
   "source": [
    "We use skewness to see where is the data distirbuted more\n",
    "skewness + -> to the right\n",
    "skewness - -> to the left\n",
    "skewness 0 -> normal"
   ]
  },
  {
   "cell_type": "code",
   "execution_count": 16,
   "metadata": {},
   "outputs": [
    {
     "data": {
      "text/plain": [
       "1.2539179317586369"
      ]
     },
     "execution_count": 16,
     "metadata": {},
     "output_type": "execute_result"
    }
   ],
   "source": [
    "flight_data['arr_delay'][flight_data['arr_delay']<100].skew()"
   ]
  },
  {
   "cell_type": "markdown",
   "metadata": {},
   "source": [
    "Kurtosis shows the tailedness of a data"
   ]
  },
  {
   "cell_type": "code",
   "execution_count": 17,
   "metadata": {},
   "outputs": [
    {
     "data": {
      "text/plain": [
       "1.8353659662635664"
      ]
     },
     "execution_count": 17,
     "metadata": {},
     "output_type": "execute_result"
    }
   ],
   "source": [
    "flight_data['arr_delay'][flight_data['arr_delay']<100].kurtosis()"
   ]
  },
  {
   "cell_type": "markdown",
   "metadata": {},
   "source": [
    "Correlation is used to show the relevance between two variables\n",
    "corr + -> when a goes up b goes up\n",
    "corr - -> when a goes down b goes down\n",
    "corr 0 -> no relevance"
   ]
  },
  {
   "cell_type": "code",
   "execution_count": 18,
   "metadata": {},
   "outputs": [
    {
     "data": {
      "text/html": [
       "<div>\n",
       "<style scoped>\n",
       "    .dataframe tbody tr th:only-of-type {\n",
       "        vertical-align: middle;\n",
       "    }\n",
       "\n",
       "    .dataframe tbody tr th {\n",
       "        vertical-align: top;\n",
       "    }\n",
       "\n",
       "    .dataframe thead th {\n",
       "        text-align: right;\n",
       "    }\n",
       "</style>\n",
       "<table border=\"1\" class=\"dataframe\">\n",
       "  <thead>\n",
       "    <tr style=\"text-align: right;\">\n",
       "      <th></th>\n",
       "      <th>id</th>\n",
       "      <th>year</th>\n",
       "      <th>month</th>\n",
       "      <th>day</th>\n",
       "      <th>dep_time</th>\n",
       "      <th>sched_dep_time</th>\n",
       "      <th>dep_delay</th>\n",
       "      <th>arr_time</th>\n",
       "      <th>sched_arr_time</th>\n",
       "      <th>arr_delay</th>\n",
       "      <th>flight</th>\n",
       "      <th>air_time</th>\n",
       "      <th>distance</th>\n",
       "      <th>hour</th>\n",
       "      <th>minute</th>\n",
       "    </tr>\n",
       "  </thead>\n",
       "  <tbody>\n",
       "    <tr>\n",
       "      <th>id</th>\n",
       "      <td>1.000000</td>\n",
       "      <td>NaN</td>\n",
       "      <td>0.071779</td>\n",
       "      <td>0.087852</td>\n",
       "      <td>0.002172</td>\n",
       "      <td>0.004076</td>\n",
       "      <td>0.049713</td>\n",
       "      <td>-0.024680</td>\n",
       "      <td>-0.013373</td>\n",
       "      <td>0.018613</td>\n",
       "      <td>0.002676</td>\n",
       "      <td>-0.032866</td>\n",
       "      <td>0.012526</td>\n",
       "      <td>0.003150</td>\n",
       "      <td>0.022619</td>\n",
       "    </tr>\n",
       "    <tr>\n",
       "      <th>year</th>\n",
       "      <td>NaN</td>\n",
       "      <td>NaN</td>\n",
       "      <td>NaN</td>\n",
       "      <td>NaN</td>\n",
       "      <td>NaN</td>\n",
       "      <td>NaN</td>\n",
       "      <td>NaN</td>\n",
       "      <td>NaN</td>\n",
       "      <td>NaN</td>\n",
       "      <td>NaN</td>\n",
       "      <td>NaN</td>\n",
       "      <td>NaN</td>\n",
       "      <td>NaN</td>\n",
       "      <td>NaN</td>\n",
       "      <td>NaN</td>\n",
       "    </tr>\n",
       "    <tr>\n",
       "      <th>month</th>\n",
       "      <td>0.071779</td>\n",
       "      <td>NaN</td>\n",
       "      <td>1.000000</td>\n",
       "      <td>0.002942</td>\n",
       "      <td>-0.003932</td>\n",
       "      <td>-0.004573</td>\n",
       "      <td>-0.020057</td>\n",
       "      <td>-0.002520</td>\n",
       "      <td>-0.004173</td>\n",
       "      <td>-0.017382</td>\n",
       "      <td>-0.000834</td>\n",
       "      <td>0.010924</td>\n",
       "      <td>0.021636</td>\n",
       "      <td>-0.005227</td>\n",
       "      <td>0.015528</td>\n",
       "    </tr>\n",
       "    <tr>\n",
       "      <th>day</th>\n",
       "      <td>0.087852</td>\n",
       "      <td>NaN</td>\n",
       "      <td>0.002942</td>\n",
       "      <td>1.000000</td>\n",
       "      <td>-0.000467</td>\n",
       "      <td>-0.000014</td>\n",
       "      <td>0.000420</td>\n",
       "      <td>-0.005537</td>\n",
       "      <td>-0.002403</td>\n",
       "      <td>-0.000319</td>\n",
       "      <td>-0.001791</td>\n",
       "      <td>0.002236</td>\n",
       "      <td>0.003041</td>\n",
       "      <td>-0.000055</td>\n",
       "      <td>0.000987</td>\n",
       "    </tr>\n",
       "    <tr>\n",
       "      <th>dep_time</th>\n",
       "      <td>0.002172</td>\n",
       "      <td>NaN</td>\n",
       "      <td>-0.003932</td>\n",
       "      <td>-0.000467</td>\n",
       "      <td>1.000000</td>\n",
       "      <td>0.954617</td>\n",
       "      <td>0.260231</td>\n",
       "      <td>0.660779</td>\n",
       "      <td>0.784682</td>\n",
       "      <td>0.232306</td>\n",
       "      <td>0.041957</td>\n",
       "      <td>-0.014619</td>\n",
       "      <td>-0.013998</td>\n",
       "      <td>0.953306</td>\n",
       "      <td>0.091577</td>\n",
       "    </tr>\n",
       "    <tr>\n",
       "      <th>sched_dep_time</th>\n",
       "      <td>0.004076</td>\n",
       "      <td>NaN</td>\n",
       "      <td>-0.004573</td>\n",
       "      <td>-0.000014</td>\n",
       "      <td>0.954617</td>\n",
       "      <td>1.000000</td>\n",
       "      <td>0.198887</td>\n",
       "      <td>0.642680</td>\n",
       "      <td>0.783342</td>\n",
       "      <td>0.173896</td>\n",
       "      <td>0.036495</td>\n",
       "      <td>-0.015532</td>\n",
       "      <td>-0.017995</td>\n",
       "      <td>0.999148</td>\n",
       "      <td>0.082960</td>\n",
       "    </tr>\n",
       "    <tr>\n",
       "      <th>dep_delay</th>\n",
       "      <td>0.049713</td>\n",
       "      <td>NaN</td>\n",
       "      <td>-0.020057</td>\n",
       "      <td>0.000420</td>\n",
       "      <td>0.260231</td>\n",
       "      <td>0.198887</td>\n",
       "      <td>1.000000</td>\n",
       "      <td>0.028729</td>\n",
       "      <td>0.160488</td>\n",
       "      <td>0.914803</td>\n",
       "      <td>0.054734</td>\n",
       "      <td>-0.022405</td>\n",
       "      <td>-0.021671</td>\n",
       "      <td>0.198226</td>\n",
       "      <td>0.028441</td>\n",
       "    </tr>\n",
       "    <tr>\n",
       "      <th>arr_time</th>\n",
       "      <td>-0.024680</td>\n",
       "      <td>NaN</td>\n",
       "      <td>-0.002520</td>\n",
       "      <td>-0.005537</td>\n",
       "      <td>0.660779</td>\n",
       "      <td>0.642680</td>\n",
       "      <td>0.028729</td>\n",
       "      <td>1.000000</td>\n",
       "      <td>0.788997</td>\n",
       "      <td>0.024482</td>\n",
       "      <td>0.025042</td>\n",
       "      <td>0.054296</td>\n",
       "      <td>0.046991</td>\n",
       "      <td>0.642651</td>\n",
       "      <td>0.040969</td>\n",
       "    </tr>\n",
       "    <tr>\n",
       "      <th>sched_arr_time</th>\n",
       "      <td>-0.013373</td>\n",
       "      <td>NaN</td>\n",
       "      <td>-0.004173</td>\n",
       "      <td>-0.002403</td>\n",
       "      <td>0.784682</td>\n",
       "      <td>0.783342</td>\n",
       "      <td>0.160488</td>\n",
       "      <td>0.788997</td>\n",
       "      <td>1.000000</td>\n",
       "      <td>0.133261</td>\n",
       "      <td>0.021594</td>\n",
       "      <td>0.078918</td>\n",
       "      <td>0.068726</td>\n",
       "      <td>0.783283</td>\n",
       "      <td>0.050321</td>\n",
       "    </tr>\n",
       "    <tr>\n",
       "      <th>arr_delay</th>\n",
       "      <td>0.018613</td>\n",
       "      <td>NaN</td>\n",
       "      <td>-0.017382</td>\n",
       "      <td>-0.000319</td>\n",
       "      <td>0.232306</td>\n",
       "      <td>0.173896</td>\n",
       "      <td>0.914803</td>\n",
       "      <td>0.024482</td>\n",
       "      <td>0.133261</td>\n",
       "      <td>1.000000</td>\n",
       "      <td>0.072862</td>\n",
       "      <td>-0.035297</td>\n",
       "      <td>-0.061868</td>\n",
       "      <td>0.173456</td>\n",
       "      <td>0.021522</td>\n",
       "    </tr>\n",
       "    <tr>\n",
       "      <th>flight</th>\n",
       "      <td>0.002676</td>\n",
       "      <td>NaN</td>\n",
       "      <td>-0.000834</td>\n",
       "      <td>-0.001791</td>\n",
       "      <td>0.041957</td>\n",
       "      <td>0.036495</td>\n",
       "      <td>0.054734</td>\n",
       "      <td>0.025042</td>\n",
       "      <td>0.021594</td>\n",
       "      <td>0.072862</td>\n",
       "      <td>1.000000</td>\n",
       "      <td>-0.472838</td>\n",
       "      <td>-0.484165</td>\n",
       "      <td>0.035838</td>\n",
       "      <td>0.018137</td>\n",
       "    </tr>\n",
       "    <tr>\n",
       "      <th>air_time</th>\n",
       "      <td>-0.032866</td>\n",
       "      <td>NaN</td>\n",
       "      <td>0.010924</td>\n",
       "      <td>0.002236</td>\n",
       "      <td>-0.014619</td>\n",
       "      <td>-0.015532</td>\n",
       "      <td>-0.022405</td>\n",
       "      <td>0.054296</td>\n",
       "      <td>0.078918</td>\n",
       "      <td>-0.035297</td>\n",
       "      <td>-0.472838</td>\n",
       "      <td>1.000000</td>\n",
       "      <td>0.990650</td>\n",
       "      <td>-0.016277</td>\n",
       "      <td>0.017032</td>\n",
       "    </tr>\n",
       "    <tr>\n",
       "      <th>distance</th>\n",
       "      <td>0.012526</td>\n",
       "      <td>NaN</td>\n",
       "      <td>0.021636</td>\n",
       "      <td>0.003041</td>\n",
       "      <td>-0.013998</td>\n",
       "      <td>-0.017995</td>\n",
       "      <td>-0.021671</td>\n",
       "      <td>0.046991</td>\n",
       "      <td>0.068726</td>\n",
       "      <td>-0.061868</td>\n",
       "      <td>-0.484165</td>\n",
       "      <td>0.990650</td>\n",
       "      <td>1.000000</td>\n",
       "      <td>-0.018860</td>\n",
       "      <td>0.019780</td>\n",
       "    </tr>\n",
       "    <tr>\n",
       "      <th>hour</th>\n",
       "      <td>0.003150</td>\n",
       "      <td>NaN</td>\n",
       "      <td>-0.005227</td>\n",
       "      <td>-0.000055</td>\n",
       "      <td>0.953306</td>\n",
       "      <td>0.999148</td>\n",
       "      <td>0.198226</td>\n",
       "      <td>0.642651</td>\n",
       "      <td>0.783283</td>\n",
       "      <td>0.173456</td>\n",
       "      <td>0.035838</td>\n",
       "      <td>-0.016277</td>\n",
       "      <td>-0.018860</td>\n",
       "      <td>1.000000</td>\n",
       "      <td>0.041768</td>\n",
       "    </tr>\n",
       "    <tr>\n",
       "      <th>minute</th>\n",
       "      <td>0.022619</td>\n",
       "      <td>NaN</td>\n",
       "      <td>0.015528</td>\n",
       "      <td>0.000987</td>\n",
       "      <td>0.091577</td>\n",
       "      <td>0.082960</td>\n",
       "      <td>0.028441</td>\n",
       "      <td>0.040969</td>\n",
       "      <td>0.050321</td>\n",
       "      <td>0.021522</td>\n",
       "      <td>0.018137</td>\n",
       "      <td>0.017032</td>\n",
       "      <td>0.019780</td>\n",
       "      <td>0.041768</td>\n",
       "      <td>1.000000</td>\n",
       "    </tr>\n",
       "  </tbody>\n",
       "</table>\n",
       "</div>"
      ],
      "text/plain": [
       "                      id  year     month       day  dep_time  sched_dep_time  \\\n",
       "id              1.000000   NaN  0.071779  0.087852  0.002172        0.004076   \n",
       "year                 NaN   NaN       NaN       NaN       NaN             NaN   \n",
       "month           0.071779   NaN  1.000000  0.002942 -0.003932       -0.004573   \n",
       "day             0.087852   NaN  0.002942  1.000000 -0.000467       -0.000014   \n",
       "dep_time        0.002172   NaN -0.003932 -0.000467  1.000000        0.954617   \n",
       "sched_dep_time  0.004076   NaN -0.004573 -0.000014  0.954617        1.000000   \n",
       "dep_delay       0.049713   NaN -0.020057  0.000420  0.260231        0.198887   \n",
       "arr_time       -0.024680   NaN -0.002520 -0.005537  0.660779        0.642680   \n",
       "sched_arr_time -0.013373   NaN -0.004173 -0.002403  0.784682        0.783342   \n",
       "arr_delay       0.018613   NaN -0.017382 -0.000319  0.232306        0.173896   \n",
       "flight          0.002676   NaN -0.000834 -0.001791  0.041957        0.036495   \n",
       "air_time       -0.032866   NaN  0.010924  0.002236 -0.014619       -0.015532   \n",
       "distance        0.012526   NaN  0.021636  0.003041 -0.013998       -0.017995   \n",
       "hour            0.003150   NaN -0.005227 -0.000055  0.953306        0.999148   \n",
       "minute          0.022619   NaN  0.015528  0.000987  0.091577        0.082960   \n",
       "\n",
       "                dep_delay  arr_time  sched_arr_time  arr_delay    flight  \\\n",
       "id               0.049713 -0.024680       -0.013373   0.018613  0.002676   \n",
       "year                  NaN       NaN             NaN        NaN       NaN   \n",
       "month           -0.020057 -0.002520       -0.004173  -0.017382 -0.000834   \n",
       "day              0.000420 -0.005537       -0.002403  -0.000319 -0.001791   \n",
       "dep_time         0.260231  0.660779        0.784682   0.232306  0.041957   \n",
       "sched_dep_time   0.198887  0.642680        0.783342   0.173896  0.036495   \n",
       "dep_delay        1.000000  0.028729        0.160488   0.914803  0.054734   \n",
       "arr_time         0.028729  1.000000        0.788997   0.024482  0.025042   \n",
       "sched_arr_time   0.160488  0.788997        1.000000   0.133261  0.021594   \n",
       "arr_delay        0.914803  0.024482        0.133261   1.000000  0.072862   \n",
       "flight           0.054734  0.025042        0.021594   0.072862  1.000000   \n",
       "air_time        -0.022405  0.054296        0.078918  -0.035297 -0.472838   \n",
       "distance        -0.021671  0.046991        0.068726  -0.061868 -0.484165   \n",
       "hour             0.198226  0.642651        0.783283   0.173456  0.035838   \n",
       "minute           0.028441  0.040969        0.050321   0.021522  0.018137   \n",
       "\n",
       "                air_time  distance      hour    minute  \n",
       "id             -0.032866  0.012526  0.003150  0.022619  \n",
       "year                 NaN       NaN       NaN       NaN  \n",
       "month           0.010924  0.021636 -0.005227  0.015528  \n",
       "day             0.002236  0.003041 -0.000055  0.000987  \n",
       "dep_time       -0.014619 -0.013998  0.953306  0.091577  \n",
       "sched_dep_time -0.015532 -0.017995  0.999148  0.082960  \n",
       "dep_delay      -0.022405 -0.021671  0.198226  0.028441  \n",
       "arr_time        0.054296  0.046991  0.642651  0.040969  \n",
       "sched_arr_time  0.078918  0.068726  0.783283  0.050321  \n",
       "arr_delay      -0.035297 -0.061868  0.173456  0.021522  \n",
       "flight         -0.472838 -0.484165  0.035838  0.018137  \n",
       "air_time        1.000000  0.990650 -0.016277  0.017032  \n",
       "distance        0.990650  1.000000 -0.018860  0.019780  \n",
       "hour           -0.016277 -0.018860  1.000000  0.041768  \n",
       "minute          0.017032  0.019780  0.041768  1.000000  "
      ]
     },
     "execution_count": 18,
     "metadata": {},
     "output_type": "execute_result"
    }
   ],
   "source": [
    "flight_data.corr(numeric_only=True)"
   ]
  },
  {
   "cell_type": "markdown",
   "metadata": {},
   "source": [
    "Calculate with spearman method"
   ]
  },
  {
   "cell_type": "code",
   "execution_count": 19,
   "metadata": {},
   "outputs": [
    {
     "data": {
      "text/html": [
       "<div>\n",
       "<style scoped>\n",
       "    .dataframe tbody tr th:only-of-type {\n",
       "        vertical-align: middle;\n",
       "    }\n",
       "\n",
       "    .dataframe tbody tr th {\n",
       "        vertical-align: top;\n",
       "    }\n",
       "\n",
       "    .dataframe thead th {\n",
       "        text-align: right;\n",
       "    }\n",
       "</style>\n",
       "<table border=\"1\" class=\"dataframe\">\n",
       "  <thead>\n",
       "    <tr style=\"text-align: right;\">\n",
       "      <th></th>\n",
       "      <th>id</th>\n",
       "      <th>year</th>\n",
       "      <th>month</th>\n",
       "      <th>day</th>\n",
       "      <th>dep_time</th>\n",
       "      <th>sched_dep_time</th>\n",
       "      <th>dep_delay</th>\n",
       "      <th>arr_time</th>\n",
       "      <th>sched_arr_time</th>\n",
       "      <th>arr_delay</th>\n",
       "      <th>flight</th>\n",
       "      <th>air_time</th>\n",
       "      <th>distance</th>\n",
       "      <th>hour</th>\n",
       "      <th>minute</th>\n",
       "    </tr>\n",
       "  </thead>\n",
       "  <tbody>\n",
       "    <tr>\n",
       "      <th>id</th>\n",
       "      <td>1.000000</td>\n",
       "      <td>NaN</td>\n",
       "      <td>0.068423</td>\n",
       "      <td>0.087983</td>\n",
       "      <td>0.002409</td>\n",
       "      <td>0.004131</td>\n",
       "      <td>0.039394</td>\n",
       "      <td>-0.021611</td>\n",
       "      <td>-0.011347</td>\n",
       "      <td>-0.037711</td>\n",
       "      <td>0.004178</td>\n",
       "      <td>-0.047133</td>\n",
       "      <td>0.005529</td>\n",
       "      <td>0.002773</td>\n",
       "      <td>0.022435</td>\n",
       "    </tr>\n",
       "    <tr>\n",
       "      <th>year</th>\n",
       "      <td>NaN</td>\n",
       "      <td>NaN</td>\n",
       "      <td>NaN</td>\n",
       "      <td>NaN</td>\n",
       "      <td>NaN</td>\n",
       "      <td>NaN</td>\n",
       "      <td>NaN</td>\n",
       "      <td>NaN</td>\n",
       "      <td>NaN</td>\n",
       "      <td>NaN</td>\n",
       "      <td>NaN</td>\n",
       "      <td>NaN</td>\n",
       "      <td>NaN</td>\n",
       "      <td>NaN</td>\n",
       "      <td>NaN</td>\n",
       "    </tr>\n",
       "    <tr>\n",
       "      <th>month</th>\n",
       "      <td>0.068423</td>\n",
       "      <td>NaN</td>\n",
       "      <td>1.000000</td>\n",
       "      <td>0.002923</td>\n",
       "      <td>-0.004394</td>\n",
       "      <td>-0.004647</td>\n",
       "      <td>-0.016497</td>\n",
       "      <td>-0.003759</td>\n",
       "      <td>-0.004762</td>\n",
       "      <td>-0.014652</td>\n",
       "      <td>0.004478</td>\n",
       "      <td>0.005213</td>\n",
       "      <td>0.019678</td>\n",
       "      <td>-0.005464</td>\n",
       "      <td>0.014267</td>\n",
       "    </tr>\n",
       "    <tr>\n",
       "      <th>day</th>\n",
       "      <td>0.087983</td>\n",
       "      <td>NaN</td>\n",
       "      <td>0.002923</td>\n",
       "      <td>1.000000</td>\n",
       "      <td>-0.000463</td>\n",
       "      <td>-0.000080</td>\n",
       "      <td>0.006105</td>\n",
       "      <td>-0.004305</td>\n",
       "      <td>-0.001632</td>\n",
       "      <td>-0.000133</td>\n",
       "      <td>-0.000430</td>\n",
       "      <td>0.002645</td>\n",
       "      <td>0.004180</td>\n",
       "      <td>-0.000123</td>\n",
       "      <td>0.001157</td>\n",
       "    </tr>\n",
       "    <tr>\n",
       "      <th>dep_time</th>\n",
       "      <td>0.002409</td>\n",
       "      <td>NaN</td>\n",
       "      <td>-0.004394</td>\n",
       "      <td>-0.000463</td>\n",
       "      <td>1.000000</td>\n",
       "      <td>0.971714</td>\n",
       "      <td>0.289806</td>\n",
       "      <td>0.803024</td>\n",
       "      <td>0.877109</td>\n",
       "      <td>0.205734</td>\n",
       "      <td>0.034215</td>\n",
       "      <td>-0.030119</td>\n",
       "      <td>-0.028804</td>\n",
       "      <td>0.969437</td>\n",
       "      <td>0.090737</td>\n",
       "    </tr>\n",
       "    <tr>\n",
       "      <th>sched_dep_time</th>\n",
       "      <td>0.004131</td>\n",
       "      <td>NaN</td>\n",
       "      <td>-0.004647</td>\n",
       "      <td>-0.000080</td>\n",
       "      <td>0.971714</td>\n",
       "      <td>1.000000</td>\n",
       "      <td>0.232511</td>\n",
       "      <td>0.785586</td>\n",
       "      <td>0.882137</td>\n",
       "      <td>0.156957</td>\n",
       "      <td>0.032365</td>\n",
       "      <td>-0.029447</td>\n",
       "      <td>-0.032579</td>\n",
       "      <td>0.997958</td>\n",
       "      <td>0.094532</td>\n",
       "    </tr>\n",
       "    <tr>\n",
       "      <th>dep_delay</th>\n",
       "      <td>0.039394</td>\n",
       "      <td>NaN</td>\n",
       "      <td>-0.016497</td>\n",
       "      <td>0.006105</td>\n",
       "      <td>0.289806</td>\n",
       "      <td>0.232511</td>\n",
       "      <td>1.000000</td>\n",
       "      <td>0.191679</td>\n",
       "      <td>0.217250</td>\n",
       "      <td>0.626361</td>\n",
       "      <td>-0.027184</td>\n",
       "      <td>0.078865</td>\n",
       "      <td>0.076324</td>\n",
       "      <td>0.229805</td>\n",
       "      <td>0.062636</td>\n",
       "    </tr>\n",
       "    <tr>\n",
       "      <th>arr_time</th>\n",
       "      <td>-0.021611</td>\n",
       "      <td>NaN</td>\n",
       "      <td>-0.003759</td>\n",
       "      <td>-0.004305</td>\n",
       "      <td>0.803024</td>\n",
       "      <td>0.785586</td>\n",
       "      <td>0.191679</td>\n",
       "      <td>1.000000</td>\n",
       "      <td>0.870649</td>\n",
       "      <td>0.119658</td>\n",
       "      <td>0.010006</td>\n",
       "      <td>0.056807</td>\n",
       "      <td>0.052827</td>\n",
       "      <td>0.784152</td>\n",
       "      <td>0.055942</td>\n",
       "    </tr>\n",
       "    <tr>\n",
       "      <th>sched_arr_time</th>\n",
       "      <td>-0.011347</td>\n",
       "      <td>NaN</td>\n",
       "      <td>-0.004762</td>\n",
       "      <td>-0.001632</td>\n",
       "      <td>0.877109</td>\n",
       "      <td>0.882137</td>\n",
       "      <td>0.217250</td>\n",
       "      <td>0.870649</td>\n",
       "      <td>1.000000</td>\n",
       "      <td>0.122800</td>\n",
       "      <td>0.001905</td>\n",
       "      <td>0.076897</td>\n",
       "      <td>0.072146</td>\n",
       "      <td>0.880184</td>\n",
       "      <td>0.062724</td>\n",
       "    </tr>\n",
       "    <tr>\n",
       "      <th>arr_delay</th>\n",
       "      <td>-0.037711</td>\n",
       "      <td>NaN</td>\n",
       "      <td>-0.014652</td>\n",
       "      <td>-0.000133</td>\n",
       "      <td>0.205734</td>\n",
       "      <td>0.156957</td>\n",
       "      <td>0.626361</td>\n",
       "      <td>0.119658</td>\n",
       "      <td>0.122800</td>\n",
       "      <td>1.000000</td>\n",
       "      <td>0.067617</td>\n",
       "      <td>-0.023115</td>\n",
       "      <td>-0.074101</td>\n",
       "      <td>0.156247</td>\n",
       "      <td>0.022519</td>\n",
       "    </tr>\n",
       "    <tr>\n",
       "      <th>flight</th>\n",
       "      <td>0.004178</td>\n",
       "      <td>NaN</td>\n",
       "      <td>0.004478</td>\n",
       "      <td>-0.000430</td>\n",
       "      <td>0.034215</td>\n",
       "      <td>0.032365</td>\n",
       "      <td>-0.027184</td>\n",
       "      <td>0.010006</td>\n",
       "      <td>0.001905</td>\n",
       "      <td>0.067617</td>\n",
       "      <td>1.000000</td>\n",
       "      <td>-0.478658</td>\n",
       "      <td>-0.483304</td>\n",
       "      <td>0.032071</td>\n",
       "      <td>0.004026</td>\n",
       "    </tr>\n",
       "    <tr>\n",
       "      <th>air_time</th>\n",
       "      <td>-0.047133</td>\n",
       "      <td>NaN</td>\n",
       "      <td>0.005213</td>\n",
       "      <td>0.002645</td>\n",
       "      <td>-0.030119</td>\n",
       "      <td>-0.029447</td>\n",
       "      <td>0.078865</td>\n",
       "      <td>0.056807</td>\n",
       "      <td>0.076897</td>\n",
       "      <td>-0.023115</td>\n",
       "      <td>-0.478658</td>\n",
       "      <td>1.000000</td>\n",
       "      <td>0.984445</td>\n",
       "      <td>-0.032251</td>\n",
       "      <td>0.033551</td>\n",
       "    </tr>\n",
       "    <tr>\n",
       "      <th>distance</th>\n",
       "      <td>0.005529</td>\n",
       "      <td>NaN</td>\n",
       "      <td>0.019678</td>\n",
       "      <td>0.004180</td>\n",
       "      <td>-0.028804</td>\n",
       "      <td>-0.032579</td>\n",
       "      <td>0.076324</td>\n",
       "      <td>0.052827</td>\n",
       "      <td>0.072146</td>\n",
       "      <td>-0.074101</td>\n",
       "      <td>-0.483304</td>\n",
       "      <td>0.984445</td>\n",
       "      <td>1.000000</td>\n",
       "      <td>-0.035453</td>\n",
       "      <td>0.035296</td>\n",
       "    </tr>\n",
       "    <tr>\n",
       "      <th>hour</th>\n",
       "      <td>0.002773</td>\n",
       "      <td>NaN</td>\n",
       "      <td>-0.005464</td>\n",
       "      <td>-0.000123</td>\n",
       "      <td>0.969437</td>\n",
       "      <td>0.997958</td>\n",
       "      <td>0.229805</td>\n",
       "      <td>0.784152</td>\n",
       "      <td>0.880184</td>\n",
       "      <td>0.156247</td>\n",
       "      <td>0.032071</td>\n",
       "      <td>-0.032251</td>\n",
       "      <td>-0.035453</td>\n",
       "      <td>1.000000</td>\n",
       "      <td>0.034153</td>\n",
       "    </tr>\n",
       "    <tr>\n",
       "      <th>minute</th>\n",
       "      <td>0.022435</td>\n",
       "      <td>NaN</td>\n",
       "      <td>0.014267</td>\n",
       "      <td>0.001157</td>\n",
       "      <td>0.090737</td>\n",
       "      <td>0.094532</td>\n",
       "      <td>0.062636</td>\n",
       "      <td>0.055942</td>\n",
       "      <td>0.062724</td>\n",
       "      <td>0.022519</td>\n",
       "      <td>0.004026</td>\n",
       "      <td>0.033551</td>\n",
       "      <td>0.035296</td>\n",
       "      <td>0.034153</td>\n",
       "      <td>1.000000</td>\n",
       "    </tr>\n",
       "  </tbody>\n",
       "</table>\n",
       "</div>"
      ],
      "text/plain": [
       "                      id  year     month       day  dep_time  sched_dep_time  \\\n",
       "id              1.000000   NaN  0.068423  0.087983  0.002409        0.004131   \n",
       "year                 NaN   NaN       NaN       NaN       NaN             NaN   \n",
       "month           0.068423   NaN  1.000000  0.002923 -0.004394       -0.004647   \n",
       "day             0.087983   NaN  0.002923  1.000000 -0.000463       -0.000080   \n",
       "dep_time        0.002409   NaN -0.004394 -0.000463  1.000000        0.971714   \n",
       "sched_dep_time  0.004131   NaN -0.004647 -0.000080  0.971714        1.000000   \n",
       "dep_delay       0.039394   NaN -0.016497  0.006105  0.289806        0.232511   \n",
       "arr_time       -0.021611   NaN -0.003759 -0.004305  0.803024        0.785586   \n",
       "sched_arr_time -0.011347   NaN -0.004762 -0.001632  0.877109        0.882137   \n",
       "arr_delay      -0.037711   NaN -0.014652 -0.000133  0.205734        0.156957   \n",
       "flight          0.004178   NaN  0.004478 -0.000430  0.034215        0.032365   \n",
       "air_time       -0.047133   NaN  0.005213  0.002645 -0.030119       -0.029447   \n",
       "distance        0.005529   NaN  0.019678  0.004180 -0.028804       -0.032579   \n",
       "hour            0.002773   NaN -0.005464 -0.000123  0.969437        0.997958   \n",
       "minute          0.022435   NaN  0.014267  0.001157  0.090737        0.094532   \n",
       "\n",
       "                dep_delay  arr_time  sched_arr_time  arr_delay    flight  \\\n",
       "id               0.039394 -0.021611       -0.011347  -0.037711  0.004178   \n",
       "year                  NaN       NaN             NaN        NaN       NaN   \n",
       "month           -0.016497 -0.003759       -0.004762  -0.014652  0.004478   \n",
       "day              0.006105 -0.004305       -0.001632  -0.000133 -0.000430   \n",
       "dep_time         0.289806  0.803024        0.877109   0.205734  0.034215   \n",
       "sched_dep_time   0.232511  0.785586        0.882137   0.156957  0.032365   \n",
       "dep_delay        1.000000  0.191679        0.217250   0.626361 -0.027184   \n",
       "arr_time         0.191679  1.000000        0.870649   0.119658  0.010006   \n",
       "sched_arr_time   0.217250  0.870649        1.000000   0.122800  0.001905   \n",
       "arr_delay        0.626361  0.119658        0.122800   1.000000  0.067617   \n",
       "flight          -0.027184  0.010006        0.001905   0.067617  1.000000   \n",
       "air_time         0.078865  0.056807        0.076897  -0.023115 -0.478658   \n",
       "distance         0.076324  0.052827        0.072146  -0.074101 -0.483304   \n",
       "hour             0.229805  0.784152        0.880184   0.156247  0.032071   \n",
       "minute           0.062636  0.055942        0.062724   0.022519  0.004026   \n",
       "\n",
       "                air_time  distance      hour    minute  \n",
       "id             -0.047133  0.005529  0.002773  0.022435  \n",
       "year                 NaN       NaN       NaN       NaN  \n",
       "month           0.005213  0.019678 -0.005464  0.014267  \n",
       "day             0.002645  0.004180 -0.000123  0.001157  \n",
       "dep_time       -0.030119 -0.028804  0.969437  0.090737  \n",
       "sched_dep_time -0.029447 -0.032579  0.997958  0.094532  \n",
       "dep_delay       0.078865  0.076324  0.229805  0.062636  \n",
       "arr_time        0.056807  0.052827  0.784152  0.055942  \n",
       "sched_arr_time  0.076897  0.072146  0.880184  0.062724  \n",
       "arr_delay      -0.023115 -0.074101  0.156247  0.022519  \n",
       "flight         -0.478658 -0.483304  0.032071  0.004026  \n",
       "air_time        1.000000  0.984445 -0.032251  0.033551  \n",
       "distance        0.984445  1.000000 -0.035453  0.035296  \n",
       "hour           -0.032251 -0.035453  1.000000  0.034153  \n",
       "minute          0.033551  0.035296  0.034153  1.000000  "
      ]
     },
     "execution_count": 19,
     "metadata": {},
     "output_type": "execute_result"
    }
   ],
   "source": [
    "flight_data.corr(numeric_only=True, method='spearman')"
   ]
  },
  {
   "cell_type": "markdown",
   "metadata": {},
   "source": [
    "Creating a data with normal distirbution\n",
    "size -> the size of the data\n",
    "loc -> mean of the data\n",
    "scale -> std of the data"
   ]
  },
  {
   "cell_type": "code",
   "execution_count": 20,
   "metadata": {},
   "outputs": [],
   "source": [
    "normal_data = sp.norm.rvs(size=10000, loc=0, scale=1)"
   ]
  },
  {
   "cell_type": "markdown",
   "metadata": {},
   "source": [
    "Show the data visually"
   ]
  },
  {
   "cell_type": "code",
   "execution_count": 21,
   "metadata": {},
   "outputs": [
    {
     "data": {
      "text/plain": [
       "<seaborn.axisgrid.FacetGrid at 0x219a3fb62d0>"
      ]
     },
     "execution_count": 21,
     "metadata": {},
     "output_type": "execute_result"
    },
    {
     "data": {
      "image/png": "[encoded data removed]",
      "text/plain": [
       "<Figure size 500x500 with 1 Axes>"
      ]
     },
     "metadata": {},
     "output_type": "display_data"
    }
   ],
   "source": [
    "sns.displot(normal_data, bins=100, kde=False)"
   ]
  },
  {
   "cell_type": "markdown",
   "metadata": {},
   "source": [
    "Creating uniform data"
   ]
  },
  {
   "cell_type": "code",
   "execution_count": 22,
   "metadata": {},
   "outputs": [],
   "source": [
    "uniform_data = sp.uniform.rvs(size=10000, loc=0, scale=1)"
   ]
  },
  {
   "cell_type": "code",
   "execution_count": 23,
   "metadata": {},
   "outputs": [
    {
     "data": {
      "text/plain": [
       "<seaborn.axisgrid.FacetGrid at 0x219a43393a0>"
      ]
     },
     "execution_count": 23,
     "metadata": {},
     "output_type": "execute_result"
    },
    {
     "data": {
      "image/png": "[encoded data removed]",
      "text/plain": [
       "<Figure size 500x500 with 1 Axes>"
      ]
     },
     "metadata": {},
     "output_type": "display_data"
    }
   ],
   "source": [
    "sns.displot(uniform_data, bins=100, kde=False)"
   ]
  },
  {
   "cell_type": "markdown",
   "metadata": {},
   "source": [
    "Creating a data with bernouli distirbution\n",
    "p -> the probability of win (1)"
   ]
  },
  {
   "cell_type": "code",
   "execution_count": 24,
   "metadata": {},
   "outputs": [
    {
     "name": "stdout",
     "output_type": "stream",
     "text": [
      "[0 0 1 ... 0 0 0]\n"
     ]
    }
   ],
   "source": [
    "bernouli_data = sp.bernoulli.rvs(size=10000 ,p=0.2)\n",
    "print(bernouli_data)"
   ]
  },
  {
   "cell_type": "code",
   "execution_count": 25,
   "metadata": {},
   "outputs": [
    {
     "data": {
      "text/plain": [
       "<seaborn.axisgrid.FacetGrid at 0x219a3ffd760>"
      ]
     },
     "execution_count": 25,
     "metadata": {},
     "output_type": "execute_result"
    },
    {
     "data": {
      "image/png": "[encoded data removed]",
      "text/plain": [
       "<Figure size 500x500 with 1 Axes>"
      ]
     },
     "metadata": {},
     "output_type": "display_data"
    }
   ],
   "source": [
    "sns.displot(bernouli_data)"
   ]
  },
  {
   "cell_type": "markdown",
   "metadata": {},
   "source": [
    "Creating bionomial data\n",
    "n -> the number of bernouli tests"
   ]
  },
  {
   "cell_type": "code",
   "execution_count": 26,
   "metadata": {},
   "outputs": [
    {
     "name": "stdout",
     "output_type": "stream",
     "text": [
      "[41 33 42 ... 36 41 46]\n"
     ]
    }
   ],
   "source": [
    "bionomial_data = sp.binom.rvs(size=10000, n=100, p=0.4)\n",
    "print(bionomial_data)"
   ]
  },
  {
   "cell_type": "markdown",
   "metadata": {},
   "source": [
    "Kinda like normal distirbution"
   ]
  },
  {
   "cell_type": "code",
   "execution_count": 27,
   "metadata": {},
   "outputs": [
    {
     "data": {
      "text/plain": [
       "<seaborn.axisgrid.FacetGrid at 0x219a331d550>"
      ]
     },
     "execution_count": 27,
     "metadata": {},
     "output_type": "execute_result"
    },
    {
     "data": {
      "image/png": "[encoded data removed]",
      "text/plain": [
       "<Figure size 500x500 with 1 Axes>"
      ]
     },
     "metadata": {},
     "output_type": "display_data"
    }
   ],
   "source": [
    "sns.displot(bionomial_data)"
   ]
  },
  {
   "cell_type": "markdown",
   "metadata": {},
   "source": [
    "Creating data with multinomial distirbution\n",
    "roll the dice for 6 times and do this for 20 times"
   ]
  },
  {
   "cell_type": "code",
   "execution_count": 28,
   "metadata": {},
   "outputs": [
    {
     "name": "stdout",
     "output_type": "stream",
     "text": [
      "[[0 2 2 1 1 0]\n",
      " [0 2 1 2 1 0]\n",
      " [0 1 0 2 0 3]\n",
      " [0 1 0 1 1 3]\n",
      " [2 1 1 0 1 1]\n",
      " [1 1 0 2 1 1]\n",
      " [3 1 0 1 1 0]\n",
      " [0 1 1 2 1 1]\n",
      " [2 0 1 0 1 2]\n",
      " [0 1 2 0 1 2]\n",
      " [3 1 0 0 2 0]\n",
      " [0 1 3 2 0 0]\n",
      " [1 1 0 2 1 1]\n",
      " [0 1 1 0 2 2]\n",
      " [0 3 2 0 0 1]\n",
      " [1 0 1 2 2 0]\n",
      " [2 2 1 0 1 0]\n",
      " [0 2 0 1 3 0]\n",
      " [4 0 0 1 1 0]\n",
      " [1 1 0 2 0 2]]\n"
     ]
    }
   ],
   "source": [
    "# p is the chance of every number on dice\n",
    "p = 1/6\n",
    "multinomial_data = np.random.multinomial(n=6, pvals=[p,p,p,p,p,p],size=20)\n",
    "print(multinomial_data)"
   ]
  },
  {
   "cell_type": "markdown",
   "metadata": {},
   "source": [
    "Poisson distirbution is for measuring the impairments\n",
    "if lam is x -> x/n  x is usually 100"
   ]
  },
  {
   "cell_type": "code",
   "execution_count": 30,
   "metadata": {},
   "outputs": [
    {
     "name": "stdout",
     "output_type": "stream",
     "text": [
      "[16 12 10 ...  5 13  6]\n"
     ]
    }
   ],
   "source": [
    "poisson_data = np.random.poisson(lam=10, size=10000)\n",
    "print(poisson_data)"
   ]
  },
  {
   "cell_type": "code",
   "execution_count": 33,
   "metadata": {},
   "outputs": [
    {
     "data": {
      "text/plain": [
       "<seaborn.axisgrid.FacetGrid at 0x219a42646b0>"
      ]
     },
     "execution_count": 33,
     "metadata": {},
     "output_type": "execute_result"
    },
    {
     "data": {
      "image/png": "[encoded data removed]",
      "text/plain": [
       "<Figure size 500x500 with 1 Axes>"
      ]
     },
     "metadata": {},
     "output_type": "display_data"
    }
   ],
   "source": [
    "sns.displot(poisson_data)"
   ]
  },
  {
   "cell_type": "code",
   "execution_count": null,
   "metadata": {},
   "outputs": [],
   "source": []
  }
 ],
 "metadata": {
  "kernelspec": {
   "display_name": "base",
   "language": "python",
   "name": "python3"
  },
  "language_info": {
   "codemirror_mode": {
    "name": "ipython",
    "version": 3
   },
   "file_extension": ".py",
   "mimetype": "text/x-python",
   "name": "python",
   "nbconvert_exporter": "python",
   "pygments_lexer": "ipython3",
   "version": "3.12.3"
  }
 },
 "nbformat": 4,
 "nbformat_minor": 2
}
